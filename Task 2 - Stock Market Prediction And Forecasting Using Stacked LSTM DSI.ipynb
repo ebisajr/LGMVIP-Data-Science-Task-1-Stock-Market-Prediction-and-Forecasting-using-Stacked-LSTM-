{
 "cells": [
  {
   "cell_type": "markdown",
   "id": "c28801ca",
   "metadata": {},
   "source": [
    "## Data Science - LGMVIP"
   ]
  },
  {
   "cell_type": "markdown",
   "id": "dc731f8e",
   "metadata": {},
   "source": [
    "### Task - 2: Stock Market Prediction and Forecasting using Stacked LSTM"
   ]
  },
  {
   "cell_type": "markdown",
   "id": "2d2bd298",
   "metadata": {},
   "source": [
    "### Importing the Necessary Libraries"
   ]
  },
  {
   "cell_type": "code",
   "execution_count": 19,
   "id": "ffbe2f22",
   "metadata": {},
   "outputs": [],
   "source": [
    "import pandas as pd\n",
    "import numpy as np\n",
    "import math\n",
    "import seaborn as sns\n",
    "import matplotlib.pyplot as plt\n",
    "from sklearn.preprocessing import MinMaxScaler\n",
    "from sklearn.metrics import mean_squared_error\n",
    "import tensorflow as tf\n",
    "from tensorflow.python.keras.models import Sequential\n",
    "from tensorflow.python.keras.layers import Dense\n",
    "from tensorflow.python.keras.layers import LSTM\n",
    "%matplotlib inline"
   ]
  },
  {
   "cell_type": "code",
   "execution_count": 20,
   "id": "7a6b6b06",
   "metadata": {},
   "outputs": [
    {
     "name": "stdout",
     "output_type": "stream",
     "text": [
      "2.12.0\n"
     ]
    }
   ],
   "source": [
    "import tensorflow as tf\n",
    "print(tf.__version__)\n"
   ]
  },
  {
   "cell_type": "markdown",
   "id": "af582c56",
   "metadata": {},
   "source": [
    "### Loading the Dataset"
   ]
  },
  {
   "cell_type": "code",
   "execution_count": 21,
   "id": "fd62433e",
   "metadata": {},
   "outputs": [],
   "source": [
    "df = pd.read_csv(\"https://raw.githubusercontent.com/ebisajr/ds-link/main/smpfds.csv\")\n"
   ]
  },
  {
   "cell_type": "code",
   "execution_count": 22,
   "id": "4df83052",
   "metadata": {
    "scrolled": true
   },
   "outputs": [
    {
     "data": {
      "text/html": [
       "<div>\n",
       "<style scoped>\n",
       "    .dataframe tbody tr th:only-of-type {\n",
       "        vertical-align: middle;\n",
       "    }\n",
       "\n",
       "    .dataframe tbody tr th {\n",
       "        vertical-align: top;\n",
       "    }\n",
       "\n",
       "    .dataframe thead th {\n",
       "        text-align: right;\n",
       "    }\n",
       "</style>\n",
       "<table border=\"1\" class=\"dataframe\">\n",
       "  <thead>\n",
       "    <tr style=\"text-align: right;\">\n",
       "      <th></th>\n",
       "      <th>Date</th>\n",
       "      <th>Open</th>\n",
       "      <th>High</th>\n",
       "      <th>Low</th>\n",
       "      <th>Last</th>\n",
       "      <th>Close</th>\n",
       "      <th>Total Trade Quantity</th>\n",
       "      <th>Turnover (Lacs)</th>\n",
       "    </tr>\n",
       "  </thead>\n",
       "  <tbody>\n",
       "    <tr>\n",
       "      <th>0</th>\n",
       "      <td>2018-09-28</td>\n",
       "      <td>234.05</td>\n",
       "      <td>235.95</td>\n",
       "      <td>230.20</td>\n",
       "      <td>233.50</td>\n",
       "      <td>233.75</td>\n",
       "      <td>3069914</td>\n",
       "      <td>7162.35</td>\n",
       "    </tr>\n",
       "    <tr>\n",
       "      <th>1</th>\n",
       "      <td>2018-09-27</td>\n",
       "      <td>234.55</td>\n",
       "      <td>236.80</td>\n",
       "      <td>231.10</td>\n",
       "      <td>233.80</td>\n",
       "      <td>233.25</td>\n",
       "      <td>5082859</td>\n",
       "      <td>11859.95</td>\n",
       "    </tr>\n",
       "    <tr>\n",
       "      <th>2</th>\n",
       "      <td>2018-09-26</td>\n",
       "      <td>240.00</td>\n",
       "      <td>240.00</td>\n",
       "      <td>232.50</td>\n",
       "      <td>235.00</td>\n",
       "      <td>234.25</td>\n",
       "      <td>2240909</td>\n",
       "      <td>5248.60</td>\n",
       "    </tr>\n",
       "    <tr>\n",
       "      <th>3</th>\n",
       "      <td>2018-09-25</td>\n",
       "      <td>233.30</td>\n",
       "      <td>236.75</td>\n",
       "      <td>232.00</td>\n",
       "      <td>236.25</td>\n",
       "      <td>236.10</td>\n",
       "      <td>2349368</td>\n",
       "      <td>5503.90</td>\n",
       "    </tr>\n",
       "    <tr>\n",
       "      <th>4</th>\n",
       "      <td>2018-09-24</td>\n",
       "      <td>233.55</td>\n",
       "      <td>239.20</td>\n",
       "      <td>230.75</td>\n",
       "      <td>234.00</td>\n",
       "      <td>233.30</td>\n",
       "      <td>3423509</td>\n",
       "      <td>7999.55</td>\n",
       "    </tr>\n",
       "  </tbody>\n",
       "</table>\n",
       "</div>"
      ],
      "text/plain": [
       "         Date    Open    High     Low    Last   Close  Total Trade Quantity  \\\n",
       "0  2018-09-28  234.05  235.95  230.20  233.50  233.75               3069914   \n",
       "1  2018-09-27  234.55  236.80  231.10  233.80  233.25               5082859   \n",
       "2  2018-09-26  240.00  240.00  232.50  235.00  234.25               2240909   \n",
       "3  2018-09-25  233.30  236.75  232.00  236.25  236.10               2349368   \n",
       "4  2018-09-24  233.55  239.20  230.75  234.00  233.30               3423509   \n",
       "\n",
       "   Turnover (Lacs)  \n",
       "0          7162.35  \n",
       "1         11859.95  \n",
       "2          5248.60  \n",
       "3          5503.90  \n",
       "4          7999.55  "
      ]
     },
     "execution_count": 22,
     "metadata": {},
     "output_type": "execute_result"
    }
   ],
   "source": [
    "#Display the first five rows of the dataset\n",
    "df.head() "
   ]
  },
  {
   "cell_type": "code",
   "execution_count": 23,
   "id": "4081bf51",
   "metadata": {},
   "outputs": [
    {
     "data": {
      "text/html": [
       "<div>\n",
       "<style scoped>\n",
       "    .dataframe tbody tr th:only-of-type {\n",
       "        vertical-align: middle;\n",
       "    }\n",
       "\n",
       "    .dataframe tbody tr th {\n",
       "        vertical-align: top;\n",
       "    }\n",
       "\n",
       "    .dataframe thead th {\n",
       "        text-align: right;\n",
       "    }\n",
       "</style>\n",
       "<table border=\"1\" class=\"dataframe\">\n",
       "  <thead>\n",
       "    <tr style=\"text-align: right;\">\n",
       "      <th></th>\n",
       "      <th>Date</th>\n",
       "      <th>Open</th>\n",
       "      <th>High</th>\n",
       "      <th>Low</th>\n",
       "      <th>Last</th>\n",
       "      <th>Close</th>\n",
       "      <th>Total Trade Quantity</th>\n",
       "      <th>Turnover (Lacs)</th>\n",
       "    </tr>\n",
       "  </thead>\n",
       "  <tbody>\n",
       "    <tr>\n",
       "      <th>2030</th>\n",
       "      <td>2010-07-27</td>\n",
       "      <td>117.6</td>\n",
       "      <td>119.50</td>\n",
       "      <td>112.00</td>\n",
       "      <td>118.80</td>\n",
       "      <td>118.65</td>\n",
       "      <td>586100</td>\n",
       "      <td>694.98</td>\n",
       "    </tr>\n",
       "    <tr>\n",
       "      <th>2031</th>\n",
       "      <td>2010-07-26</td>\n",
       "      <td>120.1</td>\n",
       "      <td>121.00</td>\n",
       "      <td>117.10</td>\n",
       "      <td>117.10</td>\n",
       "      <td>117.60</td>\n",
       "      <td>658440</td>\n",
       "      <td>780.01</td>\n",
       "    </tr>\n",
       "    <tr>\n",
       "      <th>2032</th>\n",
       "      <td>2010-07-23</td>\n",
       "      <td>121.8</td>\n",
       "      <td>121.95</td>\n",
       "      <td>120.25</td>\n",
       "      <td>120.35</td>\n",
       "      <td>120.65</td>\n",
       "      <td>281312</td>\n",
       "      <td>340.31</td>\n",
       "    </tr>\n",
       "    <tr>\n",
       "      <th>2033</th>\n",
       "      <td>2010-07-22</td>\n",
       "      <td>120.3</td>\n",
       "      <td>122.00</td>\n",
       "      <td>120.25</td>\n",
       "      <td>120.75</td>\n",
       "      <td>120.90</td>\n",
       "      <td>293312</td>\n",
       "      <td>355.17</td>\n",
       "    </tr>\n",
       "    <tr>\n",
       "      <th>2034</th>\n",
       "      <td>2010-07-21</td>\n",
       "      <td>122.1</td>\n",
       "      <td>123.00</td>\n",
       "      <td>121.05</td>\n",
       "      <td>121.10</td>\n",
       "      <td>121.55</td>\n",
       "      <td>658666</td>\n",
       "      <td>803.56</td>\n",
       "    </tr>\n",
       "  </tbody>\n",
       "</table>\n",
       "</div>"
      ],
      "text/plain": [
       "            Date   Open    High     Low    Last   Close  Total Trade Quantity  \\\n",
       "2030  2010-07-27  117.6  119.50  112.00  118.80  118.65                586100   \n",
       "2031  2010-07-26  120.1  121.00  117.10  117.10  117.60                658440   \n",
       "2032  2010-07-23  121.8  121.95  120.25  120.35  120.65                281312   \n",
       "2033  2010-07-22  120.3  122.00  120.25  120.75  120.90                293312   \n",
       "2034  2010-07-21  122.1  123.00  121.05  121.10  121.55                658666   \n",
       "\n",
       "      Turnover (Lacs)  \n",
       "2030           694.98  \n",
       "2031           780.01  \n",
       "2032           340.31  \n",
       "2033           355.17  \n",
       "2034           803.56  "
      ]
     },
     "execution_count": 23,
     "metadata": {},
     "output_type": "execute_result"
    }
   ],
   "source": [
    "df.tail()"
   ]
  },
  {
   "cell_type": "code",
   "execution_count": null,
   "id": "737c6267",
   "metadata": {},
   "outputs": [],
   "source": []
  },
  {
   "cell_type": "markdown",
   "id": "9901d371",
   "metadata": {},
   "source": [
    "There are no missing values in the dataset. So, we can proceed."
   ]
  },
  {
   "cell_type": "code",
   "execution_count": 24,
   "id": "1643fdb5",
   "metadata": {},
   "outputs": [],
   "source": [
    "df['Date'] = pd.to_datetime(df['Date'])"
   ]
  },
  {
   "cell_type": "code",
   "execution_count": 25,
   "id": "5f28ad43",
   "metadata": {
    "scrolled": false
   },
   "outputs": [
    {
     "data": {
      "text/html": [
       "<div>\n",
       "<style scoped>\n",
       "    .dataframe tbody tr th:only-of-type {\n",
       "        vertical-align: middle;\n",
       "    }\n",
       "\n",
       "    .dataframe tbody tr th {\n",
       "        vertical-align: top;\n",
       "    }\n",
       "\n",
       "    .dataframe thead th {\n",
       "        text-align: right;\n",
       "    }\n",
       "</style>\n",
       "<table border=\"1\" class=\"dataframe\">\n",
       "  <thead>\n",
       "    <tr style=\"text-align: right;\">\n",
       "      <th></th>\n",
       "      <th>Date</th>\n",
       "      <th>Open</th>\n",
       "      <th>High</th>\n",
       "      <th>Low</th>\n",
       "      <th>Last</th>\n",
       "      <th>Close</th>\n",
       "      <th>Total Trade Quantity</th>\n",
       "      <th>Turnover (Lacs)</th>\n",
       "    </tr>\n",
       "  </thead>\n",
       "  <tbody>\n",
       "    <tr>\n",
       "      <th>2034</th>\n",
       "      <td>2010-07-21</td>\n",
       "      <td>122.1</td>\n",
       "      <td>123.00</td>\n",
       "      <td>121.05</td>\n",
       "      <td>121.10</td>\n",
       "      <td>121.55</td>\n",
       "      <td>658666</td>\n",
       "      <td>803.56</td>\n",
       "    </tr>\n",
       "    <tr>\n",
       "      <th>2033</th>\n",
       "      <td>2010-07-22</td>\n",
       "      <td>120.3</td>\n",
       "      <td>122.00</td>\n",
       "      <td>120.25</td>\n",
       "      <td>120.75</td>\n",
       "      <td>120.90</td>\n",
       "      <td>293312</td>\n",
       "      <td>355.17</td>\n",
       "    </tr>\n",
       "    <tr>\n",
       "      <th>2032</th>\n",
       "      <td>2010-07-23</td>\n",
       "      <td>121.8</td>\n",
       "      <td>121.95</td>\n",
       "      <td>120.25</td>\n",
       "      <td>120.35</td>\n",
       "      <td>120.65</td>\n",
       "      <td>281312</td>\n",
       "      <td>340.31</td>\n",
       "    </tr>\n",
       "    <tr>\n",
       "      <th>2031</th>\n",
       "      <td>2010-07-26</td>\n",
       "      <td>120.1</td>\n",
       "      <td>121.00</td>\n",
       "      <td>117.10</td>\n",
       "      <td>117.10</td>\n",
       "      <td>117.60</td>\n",
       "      <td>658440</td>\n",
       "      <td>780.01</td>\n",
       "    </tr>\n",
       "    <tr>\n",
       "      <th>2030</th>\n",
       "      <td>2010-07-27</td>\n",
       "      <td>117.6</td>\n",
       "      <td>119.50</td>\n",
       "      <td>112.00</td>\n",
       "      <td>118.80</td>\n",
       "      <td>118.65</td>\n",
       "      <td>586100</td>\n",
       "      <td>694.98</td>\n",
       "    </tr>\n",
       "  </tbody>\n",
       "</table>\n",
       "</div>"
      ],
      "text/plain": [
       "           Date   Open    High     Low    Last   Close  Total Trade Quantity  \\\n",
       "2034 2010-07-21  122.1  123.00  121.05  121.10  121.55                658666   \n",
       "2033 2010-07-22  120.3  122.00  120.25  120.75  120.90                293312   \n",
       "2032 2010-07-23  121.8  121.95  120.25  120.35  120.65                281312   \n",
       "2031 2010-07-26  120.1  121.00  117.10  117.10  117.60                658440   \n",
       "2030 2010-07-27  117.6  119.50  112.00  118.80  118.65                586100   \n",
       "\n",
       "      Turnover (Lacs)  \n",
       "2034           803.56  \n",
       "2033           355.17  \n",
       "2032           340.31  \n",
       "2031           780.01  \n",
       "2030           694.98  "
      ]
     },
     "execution_count": 25,
     "metadata": {},
     "output_type": "execute_result"
    }
   ],
   "source": [
    "df = df.sort_values('Date')\n",
    "df.head()"
   ]
  },
  {
   "cell_type": "code",
   "execution_count": 26,
   "id": "a6e44447",
   "metadata": {},
   "outputs": [],
   "source": [
    "df.reset_index(inplace=True)"
   ]
  },
  {
   "cell_type": "markdown",
   "id": "53107466",
   "metadata": {},
   "source": [
    "## Information about the dataset"
   ]
  },
  {
   "cell_type": "code",
   "execution_count": 27,
   "id": "a6329b4b",
   "metadata": {
    "scrolled": true
   },
   "outputs": [
    {
     "data": {
      "text/plain": [
       "(2035, 9)"
      ]
     },
     "execution_count": 27,
     "metadata": {},
     "output_type": "execute_result"
    }
   ],
   "source": [
    "df.shape"
   ]
  },
  {
   "cell_type": "code",
   "execution_count": 28,
   "id": "3226a84f",
   "metadata": {},
   "outputs": [
    {
     "data": {
      "text/plain": [
       "Index(['index', 'Date', 'Open', 'High', 'Low', 'Last', 'Close',\n",
       "       'Total Trade Quantity', 'Turnover (Lacs)'],\n",
       "      dtype='object')"
      ]
     },
     "execution_count": 28,
     "metadata": {},
     "output_type": "execute_result"
    }
   ],
   "source": [
    "df.columns"
   ]
  },
  {
   "cell_type": "code",
   "execution_count": 29,
   "id": "884f474e",
   "metadata": {},
   "outputs": [
    {
     "name": "stdout",
     "output_type": "stream",
     "text": [
      "<class 'pandas.core.frame.DataFrame'>\n",
      "RangeIndex: 2035 entries, 0 to 2034\n",
      "Data columns (total 9 columns):\n",
      " #   Column                Non-Null Count  Dtype         \n",
      "---  ------                --------------  -----         \n",
      " 0   index                 2035 non-null   int64         \n",
      " 1   Date                  2035 non-null   datetime64[ns]\n",
      " 2   Open                  2035 non-null   float64       \n",
      " 3   High                  2035 non-null   float64       \n",
      " 4   Low                   2035 non-null   float64       \n",
      " 5   Last                  2035 non-null   float64       \n",
      " 6   Close                 2035 non-null   float64       \n",
      " 7   Total Trade Quantity  2035 non-null   int64         \n",
      " 8   Turnover (Lacs)       2035 non-null   float64       \n",
      "dtypes: datetime64[ns](1), float64(6), int64(2)\n",
      "memory usage: 143.2 KB\n"
     ]
    }
   ],
   "source": [
    "df.info()"
   ]
  },
  {
   "cell_type": "code",
   "execution_count": 30,
   "id": "8802f0bf",
   "metadata": {},
   "outputs": [
    {
     "data": {
      "text/plain": [
       "18315"
      ]
     },
     "execution_count": 30,
     "metadata": {},
     "output_type": "execute_result"
    }
   ],
   "source": [
    "df.size"
   ]
  },
  {
   "cell_type": "code",
   "execution_count": 31,
   "id": "3fef9f81",
   "metadata": {},
   "outputs": [
    {
     "data": {
      "text/plain": [
       "index                            int64\n",
       "Date                    datetime64[ns]\n",
       "Open                           float64\n",
       "High                           float64\n",
       "Low                            float64\n",
       "Last                           float64\n",
       "Close                          float64\n",
       "Total Trade Quantity             int64\n",
       "Turnover (Lacs)                float64\n",
       "dtype: object"
      ]
     },
     "execution_count": 31,
     "metadata": {},
     "output_type": "execute_result"
    }
   ],
   "source": [
    "df.dtypes"
   ]
  },
  {
   "cell_type": "markdown",
   "id": "92c477ef",
   "metadata": {},
   "source": [
    "## Data Cleaning and Preprocessing"
   ]
  },
  {
   "cell_type": "code",
   "execution_count": 32,
   "id": "00542056",
   "metadata": {},
   "outputs": [
    {
     "data": {
      "text/plain": [
       "index                   0\n",
       "Date                    0\n",
       "Open                    0\n",
       "High                    0\n",
       "Low                     0\n",
       "Last                    0\n",
       "Close                   0\n",
       "Total Trade Quantity    0\n",
       "Turnover (Lacs)         0\n",
       "dtype: int64"
      ]
     },
     "execution_count": 32,
     "metadata": {},
     "output_type": "execute_result"
    }
   ],
   "source": [
    "# Check for null values\n",
    "df.isnull().sum()"
   ]
  },
  {
   "cell_type": "markdown",
   "id": "33fbe283",
   "metadata": {},
   "source": [
    "This shows that there are no missing values in dataset"
   ]
  },
  {
   "cell_type": "code",
   "execution_count": 33,
   "id": "0851d50c",
   "metadata": {},
   "outputs": [
    {
     "data": {
      "text/plain": [
       "False    2035\n",
       "dtype: int64"
      ]
     },
     "execution_count": 33,
     "metadata": {},
     "output_type": "execute_result"
    }
   ],
   "source": [
    "# Checking for the duplicate values\n",
    "duplicates = df.duplicated()\n",
    "duplicates.value_counts()"
   ]
  },
  {
   "cell_type": "markdown",
   "id": "7478fa9c",
   "metadata": {},
   "source": [
    "This shows that there are no duplicate values"
   ]
  },
  {
   "cell_type": "markdown",
   "id": "668e5447",
   "metadata": {},
   "source": [
    "## Statistics of the Dataset"
   ]
  },
  {
   "cell_type": "code",
   "execution_count": 34,
   "id": "346fc5d3",
   "metadata": {},
   "outputs": [
    {
     "data": {
      "text/html": [
       "<div>\n",
       "<style scoped>\n",
       "    .dataframe tbody tr th:only-of-type {\n",
       "        vertical-align: middle;\n",
       "    }\n",
       "\n",
       "    .dataframe tbody tr th {\n",
       "        vertical-align: top;\n",
       "    }\n",
       "\n",
       "    .dataframe thead th {\n",
       "        text-align: right;\n",
       "    }\n",
       "</style>\n",
       "<table border=\"1\" class=\"dataframe\">\n",
       "  <thead>\n",
       "    <tr style=\"text-align: right;\">\n",
       "      <th></th>\n",
       "      <th>index</th>\n",
       "      <th>Open</th>\n",
       "      <th>High</th>\n",
       "      <th>Low</th>\n",
       "      <th>Last</th>\n",
       "      <th>Close</th>\n",
       "      <th>Total Trade Quantity</th>\n",
       "      <th>Turnover (Lacs)</th>\n",
       "    </tr>\n",
       "  </thead>\n",
       "  <tbody>\n",
       "    <tr>\n",
       "      <th>count</th>\n",
       "      <td>2035.000000</td>\n",
       "      <td>2035.000000</td>\n",
       "      <td>2035.000000</td>\n",
       "      <td>2035.000000</td>\n",
       "      <td>2035.000000</td>\n",
       "      <td>2035.00000</td>\n",
       "      <td>2.035000e+03</td>\n",
       "      <td>2035.000000</td>\n",
       "    </tr>\n",
       "    <tr>\n",
       "      <th>mean</th>\n",
       "      <td>1017.000000</td>\n",
       "      <td>149.713735</td>\n",
       "      <td>151.992826</td>\n",
       "      <td>147.293931</td>\n",
       "      <td>149.474251</td>\n",
       "      <td>149.45027</td>\n",
       "      <td>2.335681e+06</td>\n",
       "      <td>3899.980565</td>\n",
       "    </tr>\n",
       "    <tr>\n",
       "      <th>std</th>\n",
       "      <td>587.598219</td>\n",
       "      <td>48.664509</td>\n",
       "      <td>49.413109</td>\n",
       "      <td>47.931958</td>\n",
       "      <td>48.732570</td>\n",
       "      <td>48.71204</td>\n",
       "      <td>2.091778e+06</td>\n",
       "      <td>4570.767877</td>\n",
       "    </tr>\n",
       "    <tr>\n",
       "      <th>min</th>\n",
       "      <td>0.000000</td>\n",
       "      <td>81.100000</td>\n",
       "      <td>82.800000</td>\n",
       "      <td>80.000000</td>\n",
       "      <td>81.000000</td>\n",
       "      <td>80.95000</td>\n",
       "      <td>3.961000e+04</td>\n",
       "      <td>37.040000</td>\n",
       "    </tr>\n",
       "    <tr>\n",
       "      <th>25%</th>\n",
       "      <td>508.500000</td>\n",
       "      <td>120.025000</td>\n",
       "      <td>122.100000</td>\n",
       "      <td>118.300000</td>\n",
       "      <td>120.075000</td>\n",
       "      <td>120.05000</td>\n",
       "      <td>1.146444e+06</td>\n",
       "      <td>1427.460000</td>\n",
       "    </tr>\n",
       "    <tr>\n",
       "      <th>50%</th>\n",
       "      <td>1017.000000</td>\n",
       "      <td>141.500000</td>\n",
       "      <td>143.400000</td>\n",
       "      <td>139.600000</td>\n",
       "      <td>141.100000</td>\n",
       "      <td>141.25000</td>\n",
       "      <td>1.783456e+06</td>\n",
       "      <td>2512.030000</td>\n",
       "    </tr>\n",
       "    <tr>\n",
       "      <th>75%</th>\n",
       "      <td>1525.500000</td>\n",
       "      <td>157.175000</td>\n",
       "      <td>159.400000</td>\n",
       "      <td>155.150000</td>\n",
       "      <td>156.925000</td>\n",
       "      <td>156.90000</td>\n",
       "      <td>2.813594e+06</td>\n",
       "      <td>4539.015000</td>\n",
       "    </tr>\n",
       "    <tr>\n",
       "      <th>max</th>\n",
       "      <td>2034.000000</td>\n",
       "      <td>327.700000</td>\n",
       "      <td>328.750000</td>\n",
       "      <td>321.650000</td>\n",
       "      <td>325.950000</td>\n",
       "      <td>325.75000</td>\n",
       "      <td>2.919102e+07</td>\n",
       "      <td>55755.080000</td>\n",
       "    </tr>\n",
       "  </tbody>\n",
       "</table>\n",
       "</div>"
      ],
      "text/plain": [
       "             index         Open         High          Low         Last  \\\n",
       "count  2035.000000  2035.000000  2035.000000  2035.000000  2035.000000   \n",
       "mean   1017.000000   149.713735   151.992826   147.293931   149.474251   \n",
       "std     587.598219    48.664509    49.413109    47.931958    48.732570   \n",
       "min       0.000000    81.100000    82.800000    80.000000    81.000000   \n",
       "25%     508.500000   120.025000   122.100000   118.300000   120.075000   \n",
       "50%    1017.000000   141.500000   143.400000   139.600000   141.100000   \n",
       "75%    1525.500000   157.175000   159.400000   155.150000   156.925000   \n",
       "max    2034.000000   327.700000   328.750000   321.650000   325.950000   \n",
       "\n",
       "            Close  Total Trade Quantity  Turnover (Lacs)  \n",
       "count  2035.00000          2.035000e+03      2035.000000  \n",
       "mean    149.45027          2.335681e+06      3899.980565  \n",
       "std      48.71204          2.091778e+06      4570.767877  \n",
       "min      80.95000          3.961000e+04        37.040000  \n",
       "25%     120.05000          1.146444e+06      1427.460000  \n",
       "50%     141.25000          1.783456e+06      2512.030000  \n",
       "75%     156.90000          2.813594e+06      4539.015000  \n",
       "max     325.75000          2.919102e+07     55755.080000  "
      ]
     },
     "execution_count": 34,
     "metadata": {},
     "output_type": "execute_result"
    }
   ],
   "source": [
    "df.describe()"
   ]
  },
  {
   "cell_type": "code",
   "execution_count": 35,
   "id": "2e5e2a4e",
   "metadata": {},
   "outputs": [
    {
     "data": {
      "image/png": "[encoded data removed]",
      "text/plain": [
       "<Figure size 1080x720 with 2 Axes>"
      ]
     },
     "metadata": {
      "needs_background": "light"
     },
     "output_type": "display_data"
    }
   ],
   "source": [
    "plt.figure(figsize=(15, 10))\n",
    "cmap = sns.diverging_palette(220, 10, as_cmap=True)  # Define a custom color map\n",
    "sns.heatmap(df.cov(), annot=True, fmt='g', cmap=cmap, linewidths=0.5, square=True)\n",
    "plt.title('Covariance Heatmap', fontsize=16)\n",
    "plt.xticks(fontsize=12)\n",
    "plt.yticks(fontsize=12)\n",
    "plt.show()"
   ]
  },
  {
   "cell_type": "code",
   "execution_count": 36,
   "id": "dd6f26dd",
   "metadata": {},
   "outputs": [
    {
     "name": "stdout",
     "output_type": "stream",
     "text": [
      "0       122.10\n",
      "1       120.30\n",
      "2       121.80\n",
      "3       120.10\n",
      "4       117.60\n",
      "         ...  \n",
      "2030    233.55\n",
      "2031    233.30\n",
      "2032    240.00\n",
      "2033    234.55\n",
      "2034    234.05\n",
      "Name: Open, Length: 2035, dtype: float64\n"
     ]
    }
   ],
   "source": [
    "df_open= df.reset_index()['Open']\n",
    "print(df_open)"
   ]
  },
  {
   "cell_type": "code",
   "execution_count": null,
   "id": "0f2dec67",
   "metadata": {},
   "outputs": [],
   "source": []
  },
  {
   "cell_type": "markdown",
   "id": "c4d0caa8",
   "metadata": {},
   "source": [
    "## Visualize Data"
   ]
  },
  {
   "cell_type": "code",
   "execution_count": null,
   "id": "4c051294",
   "metadata": {},
   "outputs": [],
   "source": []
  },
  {
   "cell_type": "markdown",
   "id": "e9c3cf5d",
   "metadata": {},
   "source": [
    "#### Plot the graphs for Open, Close, High, Low, & Last price"
   ]
  },
  {
   "cell_type": "code",
   "execution_count": 134,
   "id": "7d250f47",
   "metadata": {
    "scrolled": true
   },
   "outputs": [
    {
     "data": {
      "text/plain": [
       "Text(0.5, 1.0, 'Open')"
      ]
     },
     "execution_count": 134,
     "metadata": {},
     "output_type": "execute_result"
    },
    {
     "data": {
      "image/png": "[encoded data removed]",
      "text/plain": [
       "<Figure size 1440x720 with 1 Axes>"
      ]
     },
     "metadata": {},
     "output_type": "display_data"
    }
   ],
   "source": [
    "plt.subplots(figsize = (20,10))\n",
    "plt.plot(df_open ,)\n",
    "plt.title(\"Open\")"
   ]
  },
  {
   "cell_type": "markdown",
   "id": "4538ffc4",
   "metadata": {},
   "source": [
    "##### OR"
   ]
  },
  {
   "cell_type": "code",
   "execution_count": 38,
   "id": "98850825",
   "metadata": {},
   "outputs": [
    {
     "data": {
      "image/png": "[encoded data removed]",
      "text/plain": [
       "<Figure size 1440x360 with 1 Axes>"
      ]
     },
     "metadata": {},
     "output_type": "display_data"
    }
   ],
   "source": [
    "sns.set_style('darkgrid')\n",
    "plt.figure(figsize = (20,5))\n",
    "plt.plot(df.Close, color = 'g')\n",
    "plt.ylabel('Variation in price')\n",
    "plt.title(\"Opening Price\")\n",
    "plt.show()"
   ]
  },
  {
   "cell_type": "code",
   "execution_count": 39,
   "id": "cc91f000",
   "metadata": {},
   "outputs": [
    {
     "data": {
      "image/png": "[encoded data removed]",
      "text/plain": [
       "<Figure size 1440x360 with 1 Axes>"
      ]
     },
     "metadata": {},
     "output_type": "display_data"
    }
   ],
   "source": [
    "sns.set_style('darkgrid')\n",
    "plt.figure(figsize = (20,5))\n",
    "plt.plot(df.Close, color = 'b')\n",
    "plt.ylabel('Variation in price')\n",
    "plt.title(\"Closing Price\")\n",
    "plt.show()"
   ]
  },
  {
   "cell_type": "code",
   "execution_count": 40,
   "id": "6fb794b8",
   "metadata": {},
   "outputs": [
    {
     "data": {
      "text/plain": [
       "0       121.55\n",
       "1       120.90\n",
       "2       120.65\n",
       "3       117.60\n",
       "4       118.65\n",
       "         ...  \n",
       "2030    233.30\n",
       "2031    236.10\n",
       "2032    234.25\n",
       "2033    233.25\n",
       "2034    233.75\n",
       "Name: Close, Length: 2035, dtype: float64"
      ]
     },
     "execution_count": 40,
     "metadata": {},
     "output_type": "execute_result"
    }
   ],
   "source": [
    "df_close = df['Close']\n",
    "df_close"
   ]
  },
  {
   "cell_type": "code",
   "execution_count": null,
   "id": "a069fb95",
   "metadata": {},
   "outputs": [],
   "source": []
  },
  {
   "cell_type": "code",
   "execution_count": 41,
   "id": "c00333a0",
   "metadata": {},
   "outputs": [
    {
     "data": {
      "image/png": "[encoded data removed]",
      "text/plain": [
       "<Figure size 1440x360 with 1 Axes>"
      ]
     },
     "metadata": {},
     "output_type": "display_data"
    }
   ],
   "source": [
    "sns.set_style('darkgrid')\n",
    "plt.figure(figsize = (20,5))\n",
    "plt.plot(df.High, color = 'r')\n",
    "plt.ylabel('Variation in price')\n",
    "plt.title(\"High Price\")\n",
    "plt.show()\n",
    "     "
   ]
  },
  {
   "cell_type": "code",
   "execution_count": null,
   "id": "0f4c64ac",
   "metadata": {},
   "outputs": [],
   "source": []
  },
  {
   "cell_type": "code",
   "execution_count": 42,
   "id": "24375976",
   "metadata": {},
   "outputs": [
    {
     "data": {
      "image/png": "[encoded data removed]",
      "text/plain": [
       "<Figure size 1440x360 with 1 Axes>"
      ]
     },
     "metadata": {},
     "output_type": "display_data"
    }
   ],
   "source": [
    "sns.set_style('darkgrid')\n",
    "plt.figure(figsize = (20,5))\n",
    "plt.plot(df.Low, color = 'black')\n",
    "plt.ylabel('Variation in price')\n",
    "plt.title(\"Low Price\")\n",
    "plt.show()\n",
    "     "
   ]
  },
  {
   "cell_type": "code",
   "execution_count": null,
   "id": "75ab436c",
   "metadata": {},
   "outputs": [],
   "source": []
  },
  {
   "cell_type": "code",
   "execution_count": 43,
   "id": "1b782e6f",
   "metadata": {},
   "outputs": [
    {
     "data": {
      "image/png": "[encoded data removed]",
      "text/plain": [
       "<Figure size 1440x360 with 1 Axes>"
      ]
     },
     "metadata": {},
     "output_type": "display_data"
    }
   ],
   "source": [
    "sns.set_style('darkgrid')\n",
    "plt.figure(figsize = (20,5))\n",
    "plt.plot(df.Last, color = 'y')\n",
    "plt.ylabel('Variation in price')\n",
    "plt.title(\"Last Price\")\n",
    "plt.show()"
   ]
  },
  {
   "cell_type": "code",
   "execution_count": null,
   "id": "52a6f2ef",
   "metadata": {},
   "outputs": [],
   "source": []
  },
  {
   "cell_type": "code",
   "execution_count": 44,
   "id": "0d4859e8",
   "metadata": {},
   "outputs": [
    {
     "data": {
      "text/html": [
       "<div>\n",
       "<style scoped>\n",
       "    .dataframe tbody tr th:only-of-type {\n",
       "        vertical-align: middle;\n",
       "    }\n",
       "\n",
       "    .dataframe tbody tr th {\n",
       "        vertical-align: top;\n",
       "    }\n",
       "\n",
       "    .dataframe thead th {\n",
       "        text-align: right;\n",
       "    }\n",
       "</style>\n",
       "<table border=\"1\" class=\"dataframe\">\n",
       "  <thead>\n",
       "    <tr style=\"text-align: right;\">\n",
       "      <th></th>\n",
       "      <th>index</th>\n",
       "      <th>Open</th>\n",
       "      <th>High</th>\n",
       "      <th>Low</th>\n",
       "      <th>Last</th>\n",
       "      <th>Close</th>\n",
       "      <th>Total Trade Quantity</th>\n",
       "      <th>Turnover (Lacs)</th>\n",
       "    </tr>\n",
       "    <tr>\n",
       "      <th>Date</th>\n",
       "      <th></th>\n",
       "      <th></th>\n",
       "      <th></th>\n",
       "      <th></th>\n",
       "      <th></th>\n",
       "      <th></th>\n",
       "      <th></th>\n",
       "      <th></th>\n",
       "    </tr>\n",
       "  </thead>\n",
       "  <tbody>\n",
       "    <tr>\n",
       "      <th>2010-07-21</th>\n",
       "      <td>2034</td>\n",
       "      <td>122.10</td>\n",
       "      <td>123.00</td>\n",
       "      <td>121.05</td>\n",
       "      <td>121.10</td>\n",
       "      <td>121.55</td>\n",
       "      <td>658666</td>\n",
       "      <td>803.56</td>\n",
       "    </tr>\n",
       "    <tr>\n",
       "      <th>2010-07-22</th>\n",
       "      <td>2033</td>\n",
       "      <td>120.30</td>\n",
       "      <td>122.00</td>\n",
       "      <td>120.25</td>\n",
       "      <td>120.75</td>\n",
       "      <td>120.90</td>\n",
       "      <td>293312</td>\n",
       "      <td>355.17</td>\n",
       "    </tr>\n",
       "    <tr>\n",
       "      <th>2010-07-23</th>\n",
       "      <td>2032</td>\n",
       "      <td>121.80</td>\n",
       "      <td>121.95</td>\n",
       "      <td>120.25</td>\n",
       "      <td>120.35</td>\n",
       "      <td>120.65</td>\n",
       "      <td>281312</td>\n",
       "      <td>340.31</td>\n",
       "    </tr>\n",
       "    <tr>\n",
       "      <th>2010-07-26</th>\n",
       "      <td>2031</td>\n",
       "      <td>120.10</td>\n",
       "      <td>121.00</td>\n",
       "      <td>117.10</td>\n",
       "      <td>117.10</td>\n",
       "      <td>117.60</td>\n",
       "      <td>658440</td>\n",
       "      <td>780.01</td>\n",
       "    </tr>\n",
       "    <tr>\n",
       "      <th>2010-07-27</th>\n",
       "      <td>2030</td>\n",
       "      <td>117.60</td>\n",
       "      <td>119.50</td>\n",
       "      <td>112.00</td>\n",
       "      <td>118.80</td>\n",
       "      <td>118.65</td>\n",
       "      <td>586100</td>\n",
       "      <td>694.98</td>\n",
       "    </tr>\n",
       "    <tr>\n",
       "      <th>...</th>\n",
       "      <td>...</td>\n",
       "      <td>...</td>\n",
       "      <td>...</td>\n",
       "      <td>...</td>\n",
       "      <td>...</td>\n",
       "      <td>...</td>\n",
       "      <td>...</td>\n",
       "      <td>...</td>\n",
       "    </tr>\n",
       "    <tr>\n",
       "      <th>2018-09-24</th>\n",
       "      <td>4</td>\n",
       "      <td>233.55</td>\n",
       "      <td>239.20</td>\n",
       "      <td>230.75</td>\n",
       "      <td>234.00</td>\n",
       "      <td>233.30</td>\n",
       "      <td>3423509</td>\n",
       "      <td>7999.55</td>\n",
       "    </tr>\n",
       "    <tr>\n",
       "      <th>2018-09-25</th>\n",
       "      <td>3</td>\n",
       "      <td>233.30</td>\n",
       "      <td>236.75</td>\n",
       "      <td>232.00</td>\n",
       "      <td>236.25</td>\n",
       "      <td>236.10</td>\n",
       "      <td>2349368</td>\n",
       "      <td>5503.90</td>\n",
       "    </tr>\n",
       "    <tr>\n",
       "      <th>2018-09-26</th>\n",
       "      <td>2</td>\n",
       "      <td>240.00</td>\n",
       "      <td>240.00</td>\n",
       "      <td>232.50</td>\n",
       "      <td>235.00</td>\n",
       "      <td>234.25</td>\n",
       "      <td>2240909</td>\n",
       "      <td>5248.60</td>\n",
       "    </tr>\n",
       "    <tr>\n",
       "      <th>2018-09-27</th>\n",
       "      <td>1</td>\n",
       "      <td>234.55</td>\n",
       "      <td>236.80</td>\n",
       "      <td>231.10</td>\n",
       "      <td>233.80</td>\n",
       "      <td>233.25</td>\n",
       "      <td>5082859</td>\n",
       "      <td>11859.95</td>\n",
       "    </tr>\n",
       "    <tr>\n",
       "      <th>2018-09-28</th>\n",
       "      <td>0</td>\n",
       "      <td>234.05</td>\n",
       "      <td>235.95</td>\n",
       "      <td>230.20</td>\n",
       "      <td>233.50</td>\n",
       "      <td>233.75</td>\n",
       "      <td>3069914</td>\n",
       "      <td>7162.35</td>\n",
       "    </tr>\n",
       "  </tbody>\n",
       "</table>\n",
       "<p>2035 rows × 8 columns</p>\n",
       "</div>"
      ],
      "text/plain": [
       "            index    Open    High     Low    Last   Close  \\\n",
       "Date                                                        \n",
       "2010-07-21   2034  122.10  123.00  121.05  121.10  121.55   \n",
       "2010-07-22   2033  120.30  122.00  120.25  120.75  120.90   \n",
       "2010-07-23   2032  121.80  121.95  120.25  120.35  120.65   \n",
       "2010-07-26   2031  120.10  121.00  117.10  117.10  117.60   \n",
       "2010-07-27   2030  117.60  119.50  112.00  118.80  118.65   \n",
       "...           ...     ...     ...     ...     ...     ...   \n",
       "2018-09-24      4  233.55  239.20  230.75  234.00  233.30   \n",
       "2018-09-25      3  233.30  236.75  232.00  236.25  236.10   \n",
       "2018-09-26      2  240.00  240.00  232.50  235.00  234.25   \n",
       "2018-09-27      1  234.55  236.80  231.10  233.80  233.25   \n",
       "2018-09-28      0  234.05  235.95  230.20  233.50  233.75   \n",
       "\n",
       "            Total Trade Quantity  Turnover (Lacs)  \n",
       "Date                                               \n",
       "2010-07-21                658666           803.56  \n",
       "2010-07-22                293312           355.17  \n",
       "2010-07-23                281312           340.31  \n",
       "2010-07-26                658440           780.01  \n",
       "2010-07-27                586100           694.98  \n",
       "...                          ...              ...  \n",
       "2018-09-24               3423509          7999.55  \n",
       "2018-09-25               2349368          5503.90  \n",
       "2018-09-26               2240909          5248.60  \n",
       "2018-09-27               5082859         11859.95  \n",
       "2018-09-28               3069914          7162.35  \n",
       "\n",
       "[2035 rows x 8 columns]"
      ]
     },
     "execution_count": 44,
     "metadata": {},
     "output_type": "execute_result"
    }
   ],
   "source": [
    "df.Date = pd.to_datetime(df.Date,format=\"%Y-%m-%d\")\n",
    "df.index = df['Date']\n",
    "df.drop('Date', axis = 1,inplace = True)\n",
    "df"
   ]
  },
  {
   "cell_type": "code",
   "execution_count": null,
   "id": "90f81bff",
   "metadata": {},
   "outputs": [],
   "source": []
  },
  {
   "cell_type": "markdown",
   "id": "e3aed08e",
   "metadata": {},
   "source": [
    "### Build the model"
   ]
  },
  {
   "cell_type": "code",
   "execution_count": 45,
   "id": "feac5698",
   "metadata": {},
   "outputs": [],
   "source": [
    "ds_high=df.reset_index()['High']"
   ]
  },
  {
   "cell_type": "code",
   "execution_count": 46,
   "id": "b167dbba",
   "metadata": {},
   "outputs": [
    {
     "data": {
      "image/png": "[encoded data removed]",
      "text/plain": [
       "<Figure size 720x360 with 1 Axes>"
      ]
     },
     "metadata": {},
     "output_type": "display_data"
    }
   ],
   "source": [
    "sns.set_style('darkgrid')\n",
    "plt.figure(figsize = (10,5))\n",
    "plt.plot(ds_high, color = 'g')\n",
    "plt.ylabel('Variation in price')\n",
    "plt.title(\"High Price\")\n",
    "plt.show()"
   ]
  },
  {
   "cell_type": "code",
   "execution_count": null,
   "id": "8f9bac14",
   "metadata": {},
   "outputs": [],
   "source": []
  },
  {
   "cell_type": "markdown",
   "id": "4285f7d3",
   "metadata": {},
   "source": [
    "## Feature Scaling Step"
   ]
  },
  {
   "cell_type": "code",
   "execution_count": 47,
   "id": "87331919",
   "metadata": {},
   "outputs": [],
   "source": [
    "from sklearn.preprocessing import MinMaxScaler"
   ]
  },
  {
   "cell_type": "code",
   "execution_count": 48,
   "id": "f18a46e2",
   "metadata": {},
   "outputs": [
    {
     "name": "stdout",
     "output_type": "stream",
     "text": [
      "[[0.16584967]\n",
      " [0.16319444]\n",
      " [0.1621732 ]\n",
      " ...\n",
      " [0.62622549]\n",
      " [0.62214052]\n",
      " [0.62418301]]\n"
     ]
    }
   ],
   "source": [
    "from sklearn.preprocessing import MinMaxScaler\n",
    "\n",
    "# Instantiate the scaler\n",
    "scaler = MinMaxScaler()\n",
    "\n",
    "# Fit and transform the data\n",
    "df_close = scaler.fit_transform(np.array(df_close).reshape(-1, 1))\n",
    "\n",
    "# Print the transformed data\n",
    "print(df_close)\n"
   ]
  },
  {
   "cell_type": "markdown",
   "id": "4c4cac2b",
   "metadata": {},
   "source": [
    "The scaling and transformation have been successfully completed, as evident from the array representation above.\n",
    "\n",
    "Next, it is necessary to proceed with data splitting."
   ]
  },
  {
   "cell_type": "code",
   "execution_count": 49,
   "id": "2e79b190",
   "metadata": {
    "scrolled": true
   },
   "outputs": [
    {
     "data": {
      "text/plain": [
       "(2035, 1)"
      ]
     },
     "execution_count": 49,
     "metadata": {},
     "output_type": "execute_result"
    }
   ],
   "source": [
    "df_close.shape"
   ]
  },
  {
   "cell_type": "code",
   "execution_count": null,
   "id": "99b7dc59",
   "metadata": {},
   "outputs": [],
   "source": []
  },
  {
   "cell_type": "code",
   "execution_count": 50,
   "id": "f991c1fe",
   "metadata": {},
   "outputs": [
    {
     "data": {
      "text/plain": [
       "(2035, 1)"
      ]
     },
     "execution_count": 50,
     "metadata": {},
     "output_type": "execute_result"
    }
   ],
   "source": [
    "scaler = MinMaxScaler(feature_range = (0,1))\n",
    "df_open = scaler.fit_transform(np.array(df_open).reshape(-1,1))\n",
    "df_open.shape"
   ]
  },
  {
   "cell_type": "code",
   "execution_count": 51,
   "id": "3f6cea7a",
   "metadata": {},
   "outputs": [
    {
     "name": "stdout",
     "output_type": "stream",
     "text": [
      "[[0.16626115]\n",
      " [0.15896188]\n",
      " [0.16504461]\n",
      " ...\n",
      " [0.64436334]\n",
      " [0.62226277]\n",
      " [0.6202352 ]]\n"
     ]
    }
   ],
   "source": [
    "print(df_open)"
   ]
  },
  {
   "cell_type": "code",
   "execution_count": 52,
   "id": "5b9b6d03",
   "metadata": {},
   "outputs": [
    {
     "data": {
      "text/plain": [
       "(1526, 509)"
      ]
     },
     "execution_count": 52,
     "metadata": {},
     "output_type": "execute_result"
    }
   ],
   "source": [
    "training_size = int( len(df_open) * 0.75)\n",
    "testing_size  = len(df_open) - training_size\n",
    "train_data , test_data = df_open[0 : training_size, :], df_open[training_size : len(df_open), :1]\n",
    "training_size , testing_size"
   ]
  },
  {
   "cell_type": "code",
   "execution_count": 53,
   "id": "0a0e7e03",
   "metadata": {},
   "outputs": [
    {
     "data": {
      "text/plain": [
       "array([[0.16626115],\n",
       "       [0.15896188],\n",
       "       [0.16504461],\n",
       "       ...,\n",
       "       [0.24594485],\n",
       "       [0.24797242],\n",
       "       [0.24776967]])"
      ]
     },
     "execution_count": 53,
     "metadata": {},
     "output_type": "execute_result"
    }
   ],
   "source": [
    "train_data"
   ]
  },
  {
   "cell_type": "code",
   "execution_count": 54,
   "id": "477083c1",
   "metadata": {},
   "outputs": [
    {
     "data": {
      "text/plain": [
       "array([[0.23033252],\n",
       "       [0.21938362],\n",
       "       [0.22810219],\n",
       "       [0.23215734],\n",
       "       [0.23824006],\n",
       "       [0.23763179],\n",
       "       [0.23073804],\n",
       "       [0.23540146],\n",
       "       [0.23438767],\n",
       "       [0.25283861],\n",
       "       [0.24249797],\n",
       "       [0.27169505],\n",
       "       [0.27088402],\n",
       "       [0.22648013],\n",
       "       [0.24270073],\n",
       "       [0.24898621],\n",
       "       [0.24675588],\n",
       "       [0.29541768],\n",
       "       [0.28872668],\n",
       "       [0.28710462],\n",
       "       [0.28527981],\n",
       "       [0.27534469],\n",
       "       [0.29156529],\n",
       "       [0.28325223],\n",
       "       [0.28751014],\n",
       "       [0.30352798],\n",
       "       [0.28933496],\n",
       "       [0.29115977],\n",
       "       [0.27554745],\n",
       "       [0.27128954],\n",
       "       [0.23682076],\n",
       "       [0.23073804],\n",
       "       [0.24148418],\n",
       "       [0.23641525],\n",
       "       [0.23073804],\n",
       "       [0.21492295],\n",
       "       [0.20235199],\n",
       "       [0.18896999],\n",
       "       [0.19829684],\n",
       "       [0.14963504],\n",
       "       [0.17396594],\n",
       "       [0.16991079],\n",
       "       [0.15693431],\n",
       "       [0.1703163 ],\n",
       "       [0.16463909],\n",
       "       [0.15328467],\n",
       "       [0.15815085],\n",
       "       [0.14882401],\n",
       "       [0.15287916],\n",
       "       [0.14821573],\n",
       "       [0.14152474],\n",
       "       [0.15186537],\n",
       "       [0.16909976],\n",
       "       [0.16970803],\n",
       "       [0.17660178],\n",
       "       [0.16382806],\n",
       "       [0.1636253 ],\n",
       "       [0.17315491],\n",
       "       [0.17538524],\n",
       "       [0.16991079],\n",
       "       [0.17538524],\n",
       "       [0.17356042],\n",
       "       [0.17416869],\n",
       "       [0.17335766],\n",
       "       [0.16788321],\n",
       "       [0.17802109],\n",
       "       [0.17721006],\n",
       "       [0.17721006],\n",
       "       [0.1607867 ],\n",
       "       [0.1674777 ],\n",
       "       [0.15571776],\n",
       "       [0.15287916],\n",
       "       [0.14557989],\n",
       "       [0.15450122],\n",
       "       [0.15612328],\n",
       "       [0.162206  ],\n",
       "       [0.16909976],\n",
       "       [0.16909976],\n",
       "       [0.17802109],\n",
       "       [0.1770073 ],\n",
       "       [0.17964315],\n",
       "       [0.1770073 ],\n",
       "       [0.18004866],\n",
       "       [0.17802109],\n",
       "       [0.19140308],\n",
       "       [0.18572587],\n",
       "       [0.19099757],\n",
       "       [0.19261963],\n",
       "       [0.19018654],\n",
       "       [0.19748581],\n",
       "       [0.19931062],\n",
       "       [0.18856448],\n",
       "       [0.19343066],\n",
       "       [0.19525547],\n",
       "       [0.19160584],\n",
       "       [0.1946472 ],\n",
       "       [0.20032441],\n",
       "       [0.19444444],\n",
       "       [0.20823195],\n",
       "       [0.23154907],\n",
       "       [0.24655312],\n",
       "       [0.24736415],\n",
       "       [0.24675588],\n",
       "       [0.26317924],\n",
       "       [0.25486618],\n",
       "       [0.25871857],\n",
       "       [0.2485807 ],\n",
       "       [0.24249797],\n",
       "       [0.23560422],\n",
       "       [0.24249797],\n",
       "       [0.24290349],\n",
       "       [0.24756691],\n",
       "       [0.24918897],\n",
       "       [0.23905109],\n",
       "       [0.23479319],\n",
       "       [0.23540146],\n",
       "       [0.23276561],\n",
       "       [0.26094891],\n",
       "       [0.243309  ],\n",
       "       [0.25486618],\n",
       "       [0.25101379],\n",
       "       [0.2485807 ],\n",
       "       [0.24128143],\n",
       "       [0.24229521],\n",
       "       [0.23965937],\n",
       "       [0.23722628],\n",
       "       [0.24533658],\n",
       "       [0.26196269],\n",
       "       [0.25831306],\n",
       "       [0.26723439],\n",
       "       [0.26135442],\n",
       "       [0.25466342],\n",
       "       [0.29115977],\n",
       "       [0.28345499],\n",
       "       [0.27899432],\n",
       "       [0.28629359],\n",
       "       [0.28527981],\n",
       "       [0.28527981],\n",
       "       [0.28203569],\n",
       "       [0.29075426],\n",
       "       [0.29115977],\n",
       "       [0.29075426],\n",
       "       [0.28548256],\n",
       "       [0.28548256],\n",
       "       [0.29541768],\n",
       "       [0.28751014],\n",
       "       [0.28345499],\n",
       "       [0.2757502 ],\n",
       "       [0.27088402],\n",
       "       [0.28041363],\n",
       "       [0.29359286],\n",
       "       [0.28345499],\n",
       "       [0.2891322 ],\n",
       "       [0.28933496],\n",
       "       [0.29967559],\n",
       "       [0.29318735],\n",
       "       [0.29683698],\n",
       "       [0.31528792],\n",
       "       [0.30494728],\n",
       "       [0.30575831],\n",
       "       [0.29075426],\n",
       "       [0.29237632],\n",
       "       [0.29927007],\n",
       "       [0.29967559],\n",
       "       [0.29562044],\n",
       "       [0.29014599],\n",
       "       [0.29805353],\n",
       "       [0.29562044],\n",
       "       [0.28751014],\n",
       "       [0.27737226],\n",
       "       [0.27858881],\n",
       "       [0.2714923 ],\n",
       "       [0.25993512],\n",
       "       [0.25283861],\n",
       "       [0.25506894],\n",
       "       [0.26804542],\n",
       "       [0.25912409],\n",
       "       [0.27351987],\n",
       "       [0.27270884],\n",
       "       [0.2919708 ],\n",
       "       [0.29987835],\n",
       "       [0.29967559],\n",
       "       [0.29014599],\n",
       "       [0.3000811 ],\n",
       "       [0.29927007],\n",
       "       [0.29359286],\n",
       "       [0.28933496],\n",
       "       [0.30758313],\n",
       "       [0.31366586],\n",
       "       [0.31974858],\n",
       "       [0.31589619],\n",
       "       [0.3067721 ],\n",
       "       [0.30697486],\n",
       "       [0.30778589],\n",
       "       [0.29805353],\n",
       "       [0.28406326],\n",
       "       [0.26824818],\n",
       "       [0.27919708],\n",
       "       [0.27128954],\n",
       "       [0.28953771],\n",
       "       [0.29440389],\n",
       "       [0.28548256],\n",
       "       [0.30575831],\n",
       "       [0.29217356],\n",
       "       [0.31589619],\n",
       "       [0.34854015],\n",
       "       [0.36476075],\n",
       "       [0.38219789],\n",
       "       [0.38442822],\n",
       "       [0.37773723],\n",
       "       [0.38523925],\n",
       "       [0.37591241],\n",
       "       [0.38240065],\n",
       "       [0.36820762],\n",
       "       [0.36942417],\n",
       "       [0.36253041],\n",
       "       [0.36861314],\n",
       "       [0.37611517],\n",
       "       [0.35198702],\n",
       "       [0.35847526],\n",
       "       [0.36455799],\n",
       "       [0.35239254],\n",
       "       [0.34407948],\n",
       "       [0.33901054],\n",
       "       [0.34833739],\n",
       "       [0.36780211],\n",
       "       [0.34225466],\n",
       "       [0.32745337],\n",
       "       [0.3000811 ],\n",
       "       [0.34428224],\n",
       "       [0.41119221],\n",
       "       [0.45782644],\n",
       "       [0.44079481],\n",
       "       [0.46857259],\n",
       "       [0.47060016],\n",
       "       [0.44768856],\n",
       "       [0.47120843],\n",
       "       [0.46188159],\n",
       "       [0.45356853],\n",
       "       [0.45377129],\n",
       "       [0.47607461],\n",
       "       [0.47506083],\n",
       "       [0.47404704],\n",
       "       [0.45904298],\n",
       "       [0.4622871 ],\n",
       "       [0.51439578],\n",
       "       [0.50689376],\n",
       "       [0.51946472],\n",
       "       [0.53081914],\n",
       "       [0.54156529],\n",
       "       [0.51662612],\n",
       "       [0.52676399],\n",
       "       [0.53345499],\n",
       "       [0.53487429],\n",
       "       [0.5486618 ],\n",
       "       [0.53892944],\n",
       "       [0.52676399],\n",
       "       [0.48803731],\n",
       "       [0.46593674],\n",
       "       [0.50851582],\n",
       "       [0.47830495],\n",
       "       [0.50040552],\n",
       "       [0.51155718],\n",
       "       [0.51175994],\n",
       "       [0.50223033],\n",
       "       [0.52270884],\n",
       "       [0.52128954],\n",
       "       [0.52068127],\n",
       "       [0.52047851],\n",
       "       [0.52676399],\n",
       "       [0.52676399],\n",
       "       [0.52392539],\n",
       "       [0.5243309 ],\n",
       "       [0.52858881],\n",
       "       [0.51419303],\n",
       "       [0.50446067],\n",
       "       [0.49837794],\n",
       "       [0.52676399],\n",
       "       [0.50223033],\n",
       "       [0.52798054],\n",
       "       [0.58353609],\n",
       "       [0.59144363],\n",
       "       [0.59144363],\n",
       "       [0.59529603],\n",
       "       [0.59164639],\n",
       "       [0.58313058],\n",
       "       [0.62408759],\n",
       "       [0.58759124],\n",
       "       [0.58678021],\n",
       "       [0.64720195],\n",
       "       [0.62935929],\n",
       "       [0.62287105],\n",
       "       [0.63584753],\n",
       "       [0.70113544],\n",
       "       [0.69403893],\n",
       "       [0.73012976],\n",
       "       [0.78994323],\n",
       "       [0.78021087],\n",
       "       [0.77879157],\n",
       "       [0.78649635],\n",
       "       [0.79643147],\n",
       "       [0.79440389],\n",
       "       [0.83617194],\n",
       "       [0.80210868],\n",
       "       [0.84083536],\n",
       "       [0.82684509],\n",
       "       [0.80413625],\n",
       "       [0.80210868],\n",
       "       [0.79034874],\n",
       "       [0.83718573],\n",
       "       [0.84712084],\n",
       "       [0.88199513],\n",
       "       [0.84712084],\n",
       "       [0.83901054],\n",
       "       [0.84306569],\n",
       "       [0.80656934],\n",
       "       [0.85523114],\n",
       "       [0.89172749],\n",
       "       [0.89679643],\n",
       "       [0.89172749],\n",
       "       [0.9026764 ],\n",
       "       [0.90997567],\n",
       "       [0.91403082],\n",
       "       [0.9203163 ],\n",
       "       [0.95965126],\n",
       "       [0.94566099],\n",
       "       [0.93592863],\n",
       "       [0.93633414],\n",
       "       [0.93755069],\n",
       "       [0.94708029],\n",
       "       [0.95904298],\n",
       "       [0.94849959],\n",
       "       [0.94444444],\n",
       "       [0.94870235],\n",
       "       [1.        ],\n",
       "       [0.98094079],\n",
       "       [0.94383617],\n",
       "       [0.94870235],\n",
       "       [0.91200324],\n",
       "       [0.91626115],\n",
       "       [0.93106245],\n",
       "       [0.91200324],\n",
       "       [0.90389294],\n",
       "       [0.90896188],\n",
       "       [0.89152474],\n",
       "       [0.89943228],\n",
       "       [0.84813463],\n",
       "       [0.82278994],\n",
       "       [0.74614761],\n",
       "       [0.72141119],\n",
       "       [0.76601784],\n",
       "       [0.81467964],\n",
       "       [0.77047851],\n",
       "       [0.8163017 ],\n",
       "       [0.83880779],\n",
       "       [0.82420925],\n",
       "       [0.80758313],\n",
       "       [0.79440389],\n",
       "       [0.76074615],\n",
       "       [0.74574209],\n",
       "       [0.74959448],\n",
       "       [0.74249797],\n",
       "       [0.78041363],\n",
       "       [0.78629359],\n",
       "       [0.77818329],\n",
       "       [0.78629359],\n",
       "       [0.78548256],\n",
       "       [0.79318735],\n",
       "       [0.77412814],\n",
       "       [0.76804542],\n",
       "       [0.78994323],\n",
       "       [0.76601784],\n",
       "       [0.7986618 ],\n",
       "       [0.78730738],\n",
       "       [0.79845904],\n",
       "       [0.80981346],\n",
       "       [0.77656123],\n",
       "       [0.7242498 ],\n",
       "       [0.74695864],\n",
       "       [0.74432279],\n",
       "       [0.68917275],\n",
       "       [0.7175588 ],\n",
       "       [0.74168694],\n",
       "       [0.73053528],\n",
       "       [0.72283049],\n",
       "       [0.79034874],\n",
       "       [0.79318735],\n",
       "       [0.78446878],\n",
       "       [0.78548256],\n",
       "       [0.78629359],\n",
       "       [0.80738037],\n",
       "       [0.79075426],\n",
       "       [0.78183293],\n",
       "       [0.78223844],\n",
       "       [0.78223844],\n",
       "       [0.81467964],\n",
       "       [0.81589619],\n",
       "       [0.83090024],\n",
       "       [0.83069749],\n",
       "       [0.837794  ],\n",
       "       [0.81873479],\n",
       "       [0.81893755],\n",
       "       [0.85725872],\n",
       "       [0.86111111],\n",
       "       [0.86293593],\n",
       "       [0.87712895],\n",
       "       [0.85827251],\n",
       "       [0.83515815],\n",
       "       [0.84225466],\n",
       "       [0.87145174],\n",
       "       [0.84549878],\n",
       "       [0.85908354],\n",
       "       [0.824412  ],\n",
       "       [0.80656934],\n",
       "       [0.71107056],\n",
       "       [0.64436334],\n",
       "       [0.65855637],\n",
       "       [0.67802109],\n",
       "       [0.66098946],\n",
       "       [0.66058394],\n",
       "       [0.67072182],\n",
       "       [0.68896999],\n",
       "       [0.69383617],\n",
       "       [0.70397405],\n",
       "       [0.71492295],\n",
       "       [0.70113544],\n",
       "       [0.75385239],\n",
       "       [0.7648013 ],\n",
       "       [0.74574209],\n",
       "       [0.70721817],\n",
       "       [0.736618  ],\n",
       "       [0.75344688],\n",
       "       [0.7404704 ],\n",
       "       [0.74817518],\n",
       "       [0.736618  ],\n",
       "       [0.75385239],\n",
       "       [0.76520681],\n",
       "       [0.80312247],\n",
       "       [0.77230333],\n",
       "       [0.78487429],\n",
       "       [0.7404704 ],\n",
       "       [0.7175588 ],\n",
       "       [0.71695053],\n",
       "       [0.72587186],\n",
       "       [0.74493106],\n",
       "       [0.74614761],\n",
       "       [0.73763179],\n",
       "       [0.73641525],\n",
       "       [0.77007299],\n",
       "       [0.74371452],\n",
       "       [0.81062449],\n",
       "       [0.79622871],\n",
       "       [0.76520681],\n",
       "       [0.75892133],\n",
       "       [0.78994323],\n",
       "       [0.78548256],\n",
       "       [0.7676399 ],\n",
       "       [0.74574209],\n",
       "       [0.71695053],\n",
       "       [0.65064882],\n",
       "       [0.6784266 ],\n",
       "       [0.6431468 ],\n",
       "       [0.60888078],\n",
       "       [0.63990268],\n",
       "       [0.66058394],\n",
       "       [0.67883212],\n",
       "       [0.62773723],\n",
       "       [0.64841849],\n",
       "       [0.6593674 ],\n",
       "       [0.65815085],\n",
       "       [0.67964315],\n",
       "       [0.61394972],\n",
       "       [0.62814274],\n",
       "       [0.62469586],\n",
       "       [0.64841849],\n",
       "       [0.63321168],\n",
       "       [0.63077859],\n",
       "       [0.63341444],\n",
       "       [0.61597729],\n",
       "       [0.62408759],\n",
       "       [0.6283455 ],\n",
       "       [0.64760746],\n",
       "       [0.66058394],\n",
       "       [0.67234388],\n",
       "       [0.64557989],\n",
       "       [0.62206002],\n",
       "       [0.61111111],\n",
       "       [0.63219789],\n",
       "       [0.61942417],\n",
       "       [0.62550689],\n",
       "       [0.63219789],\n",
       "       [0.62814274],\n",
       "       [0.63706407],\n",
       "       [0.57137064],\n",
       "       [0.57948094],\n",
       "       [0.56731549],\n",
       "       [0.57339822],\n",
       "       [0.57339822],\n",
       "       [0.54845904],\n",
       "       [0.57725061],\n",
       "       [0.61658556],\n",
       "       [0.63584753],\n",
       "       [0.62793998],\n",
       "       [0.62408759],\n",
       "       [0.61820762],\n",
       "       [0.61719384],\n",
       "       [0.64436334],\n",
       "       [0.62226277],\n",
       "       [0.6202352 ]])"
      ]
     },
     "execution_count": 54,
     "metadata": {},
     "output_type": "execute_result"
    }
   ],
   "source": [
    "test_data"
   ]
  },
  {
   "cell_type": "code",
   "execution_count": null,
   "id": "396c7f06",
   "metadata": {},
   "outputs": [],
   "source": []
  },
  {
   "cell_type": "markdown",
   "id": "e03a5044",
   "metadata": {},
   "source": [
    "# Splitting the data into train and test sets"
   ]
  },
  {
   "cell_type": "code",
   "execution_count": 55,
   "id": "3ca3eb31",
   "metadata": {},
   "outputs": [],
   "source": [
    "def create_dataset(dataset, time_step=1):\n",
    "    train_X, train_Y = [], []\n",
    "    for i in range(len(dataset)-time_step-1):\n",
    "        a = dataset[i:(i+time_step), 0]\n",
    "        train_X.append(a)\n",
    "        train_Y.append(dataset[i + time_step, 0])\n",
    "    return np.array(train_X), np.array(train_Y)"
   ]
  },
  {
   "cell_type": "code",
   "execution_count": 56,
   "id": "0e1a388c",
   "metadata": {},
   "outputs": [],
   "source": [
    "time_step = 100\n",
    "x_train, y_train = create_dataset(train_data, time_step)\n",
    "x_test, y_test = create_dataset(test_data, time_step)"
   ]
  },
  {
   "cell_type": "code",
   "execution_count": 57,
   "id": "94f414ce",
   "metadata": {},
   "outputs": [],
   "source": [
    "x_train = x_train.reshape(x_train.shape[0], x_train.shape[1], 1)\n",
    "x_test = x_test.reshape(x_test.shape[0], x_test.shape[1], 1)"
   ]
  },
  {
   "cell_type": "code",
   "execution_count": 58,
   "id": "4021b3a9",
   "metadata": {},
   "outputs": [
    {
     "name": "stdout",
     "output_type": "stream",
     "text": [
      "The shape of x_train is :  (1425, 100, 1)\n",
      "The shape of y_train is :  (1425,)\n"
     ]
    },
    {
     "data": {
      "text/plain": [
       "(None, None)"
      ]
     },
     "execution_count": 58,
     "metadata": {},
     "output_type": "execute_result"
    }
   ],
   "source": [
    "print(\"The shape of x_train is : \", x_train.shape), print(\"The shape of y_train is : \", y_train.shape)"
   ]
  },
  {
   "cell_type": "code",
   "execution_count": 59,
   "id": "df88e96f",
   "metadata": {},
   "outputs": [
    {
     "data": {
      "text/plain": [
       "(408, 100, 1)"
      ]
     },
     "execution_count": 59,
     "metadata": {},
     "output_type": "execute_result"
    }
   ],
   "source": [
    "x_test.shape"
   ]
  },
  {
   "cell_type": "code",
   "execution_count": 60,
   "id": "40a9d72c",
   "metadata": {},
   "outputs": [
    {
     "data": {
      "text/plain": [
       "(408,)"
      ]
     },
     "execution_count": 60,
     "metadata": {},
     "output_type": "execute_result"
    }
   ],
   "source": [
    "y_test.shape"
   ]
  },
  {
   "cell_type": "code",
   "execution_count": 61,
   "id": "2cef3e58",
   "metadata": {},
   "outputs": [],
   "source": [
    "# Reshaping the input to samples, time steps, features\n",
    "\n",
    "x_train = x_train.reshape(x_train.shape[0], x_train.shape[1], 1)\n",
    "x_test = x_test.reshape(x_test.shape[0], x_test.shape[1], 1)"
   ]
  },
  {
   "cell_type": "code",
   "execution_count": null,
   "id": "ade568b4",
   "metadata": {},
   "outputs": [],
   "source": []
  },
  {
   "cell_type": "markdown",
   "id": "64f44565",
   "metadata": {},
   "source": [
    "### Create the LSTM Model  or Training the Model"
   ]
  },
  {
   "cell_type": "code",
   "execution_count": 62,
   "id": "063811ed",
   "metadata": {},
   "outputs": [],
   "source": [
    "model = Sequential()\n",
    "model.add(LSTM(50, return_sequences = True, input_shape = (100,1)))\n",
    "model.add(LSTM(50, return_sequences = True))\n",
    "model.add(LSTM(50))\n",
    "model.add(Dense(1))\n",
    "model.compile(loss = 'mean_squared_error', optimizer = 'adam')"
   ]
  },
  {
   "cell_type": "code",
   "execution_count": 63,
   "id": "29ae69a8",
   "metadata": {},
   "outputs": [
    {
     "name": "stdout",
     "output_type": "stream",
     "text": [
      "Model: \"sequential\"\n",
      "_________________________________________________________________\n",
      "Layer (type)                 Output Shape              Param #   \n",
      "=================================================================\n",
      "lstm (LSTM)                  (None, 100, 50)           10400     \n",
      "_________________________________________________________________\n",
      "lstm_1 (LSTM)                (None, 100, 50)           20200     \n",
      "_________________________________________________________________\n",
      "lstm_2 (LSTM)                (None, 50)                20200     \n",
      "_________________________________________________________________\n",
      "dense (Dense)                (None, 1)                 51        \n",
      "=================================================================\n",
      "Total params: 50,851\n",
      "Trainable params: 50,851\n",
      "Non-trainable params: 0\n",
      "_________________________________________________________________\n"
     ]
    }
   ],
   "source": [
    "model.summary()"
   ]
  },
  {
   "cell_type": "code",
   "execution_count": null,
   "id": "8c39f7bf",
   "metadata": {},
   "outputs": [],
   "source": []
  },
  {
   "cell_type": "code",
   "execution_count": null,
   "id": "c7ce9cb8",
   "metadata": {},
   "outputs": [
    {
     "name": "stdout",
     "output_type": "stream",
     "text": [
      "Epoch 1/100\n",
      "23/23 [==============================] - 8s 314ms/step - loss: 6.1497e-04 - val_loss: 0.0057\n",
      "Epoch 2/100\n",
      "23/23 [==============================] - 7s 310ms/step - loss: 6.1465e-04 - val_loss: 0.0056\n",
      "Epoch 3/100\n",
      "23/23 [==============================] - 8s 330ms/step - loss: 6.0431e-04 - val_loss: 0.0048\n",
      "Epoch 4/100\n",
      "23/23 [==============================] - 7s 294ms/step - loss: 6.2584e-04 - val_loss: 0.0091\n",
      "Epoch 5/100\n",
      "23/23 [==============================] - 6s 273ms/step - loss: 6.0473e-04 - val_loss: 0.0042\n",
      "Epoch 6/100\n",
      "23/23 [==============================] - 6s 272ms/step - loss: 5.9754e-04 - val_loss: 0.0083\n",
      "Epoch 7/100\n",
      "23/23 [==============================] - 6s 278ms/step - loss: 5.3200e-04 - val_loss: 0.0088\n",
      "Epoch 8/100\n",
      "23/23 [==============================] - 6s 280ms/step - loss: 5.0349e-04 - val_loss: 0.0100\n",
      "Epoch 9/100\n",
      "23/23 [==============================] - 6s 275ms/step - loss: 5.0456e-04 - val_loss: 0.0066\n",
      "Epoch 10/100\n",
      "23/23 [==============================] - 7s 297ms/step - loss: 5.1656e-04 - val_loss: 0.0100\n",
      "Epoch 11/100\n",
      "23/23 [==============================] - 7s 312ms/step - loss: 4.7450e-04 - val_loss: 0.0079\n",
      "Epoch 12/100\n",
      "23/23 [==============================] - 7s 288ms/step - loss: 4.6526e-04 - val_loss: 0.0109\n",
      "Epoch 13/100\n",
      "23/23 [==============================] - 7s 301ms/step - loss: 4.5398e-04 - val_loss: 0.0069\n",
      "Epoch 14/100\n",
      "23/23 [==============================] - 8s 340ms/step - loss: 4.3758e-04 - val_loss: 0.0077\n",
      "Epoch 15/100\n",
      "23/23 [==============================] - 7s 318ms/step - loss: 4.2355e-04 - val_loss: 0.0073\n",
      "Epoch 16/100\n",
      "23/23 [==============================] - 9s 364ms/step - loss: 4.2787e-04 - val_loss: 0.0049\n",
      "Epoch 17/100\n",
      "23/23 [==============================] - 7s 295ms/step - loss: 4.5322e-04 - val_loss: 0.0081\n",
      "Epoch 18/100\n",
      "23/23 [==============================] - 7s 305ms/step - loss: 4.2403e-04 - val_loss: 0.0125\n",
      "Epoch 19/100\n",
      "23/23 [==============================] - 7s 319ms/step - loss: 4.1626e-04 - val_loss: 0.0057\n",
      "Epoch 20/100\n",
      "23/23 [==============================] - 7s 297ms/step - loss: 3.9152e-04 - val_loss: 0.0085\n",
      "Epoch 21/100\n",
      "23/23 [==============================] - 8s 358ms/step - loss: 3.6988e-04 - val_loss: 0.0076\n",
      "Epoch 22/100\n",
      "23/23 [==============================] - 11s 478ms/step - loss: 3.5232e-04 - val_loss: 0.0054\n",
      "Epoch 23/100\n",
      "23/23 [==============================] - 7s 303ms/step - loss: 3.5556e-04 - val_loss: 0.0049\n",
      "Epoch 24/100\n",
      "23/23 [==============================] - 7s 314ms/step - loss: 3.3576e-04 - val_loss: 0.0049\n",
      "Epoch 25/100\n",
      "23/23 [==============================] - 7s 317ms/step - loss: 3.2571e-04 - val_loss: 0.0046\n",
      "Epoch 26/100\n",
      "23/23 [==============================] - 7s 287ms/step - loss: 3.3068e-04 - val_loss: 0.0038\n",
      "Epoch 27/100\n",
      "23/23 [==============================] - 6s 282ms/step - loss: 3.0524e-04 - val_loss: 0.0042\n",
      "Epoch 28/100\n",
      "23/23 [==============================] - 8s 339ms/step - loss: 3.0125e-04 - val_loss: 0.0027\n",
      "Epoch 29/100\n",
      "23/23 [==============================] - 8s 365ms/step - loss: 2.8564e-04 - val_loss: 0.0039\n",
      "Epoch 30/100\n",
      "23/23 [==============================] - 8s 334ms/step - loss: 2.9069e-04 - val_loss: 0.0032\n",
      "Epoch 31/100\n",
      "23/23 [==============================] - 7s 304ms/step - loss: 2.7556e-04 - val_loss: 0.0039\n",
      "Epoch 32/100\n",
      "23/23 [==============================] - 8s 359ms/step - loss: 2.6489e-04 - val_loss: 0.0040\n",
      "Epoch 33/100\n",
      "23/23 [==============================] - 7s 297ms/step - loss: 2.8730e-04 - val_loss: 0.0047\n",
      "Epoch 34/100\n",
      "23/23 [==============================] - 6s 278ms/step - loss: 2.6952e-04 - val_loss: 0.0023\n",
      "Epoch 35/100\n",
      "23/23 [==============================] - 6s 265ms/step - loss: 2.5570e-04 - val_loss: 0.0049\n",
      "Epoch 36/100\n",
      "23/23 [==============================] - 6s 272ms/step - loss: 2.8457e-04 - val_loss: 0.0043\n",
      "Epoch 37/100\n",
      "23/23 [==============================] - 7s 306ms/step - loss: 2.3175e-04 - val_loss: 0.0029\n",
      "Epoch 38/100\n",
      "23/23 [==============================] - 7s 311ms/step - loss: 2.2182e-04 - val_loss: 0.0020\n",
      "Epoch 39/100\n",
      "23/23 [==============================] - 9s 370ms/step - loss: 2.2011e-04 - val_loss: 0.0041\n",
      "Epoch 40/100\n",
      "23/23 [==============================] - 7s 313ms/step - loss: 2.5636e-04 - val_loss: 0.0046\n",
      "Epoch 41/100\n",
      "23/23 [==============================] - 8s 342ms/step - loss: 2.3562e-04 - val_loss: 0.0029\n",
      "Epoch 42/100\n",
      "23/23 [==============================] - 8s 333ms/step - loss: 2.2331e-04 - val_loss: 0.0028\n",
      "Epoch 43/100\n",
      "23/23 [==============================] - 7s 325ms/step - loss: 1.9882e-04 - val_loss: 0.0016\n",
      "Epoch 44/100\n",
      "23/23 [==============================] - 8s 344ms/step - loss: 2.0660e-04 - val_loss: 0.0014\n",
      "Epoch 45/100\n",
      "23/23 [==============================] - 8s 345ms/step - loss: 1.9263e-04 - val_loss: 0.0034\n",
      "Epoch 46/100\n",
      "23/23 [==============================] - 7s 317ms/step - loss: 1.8728e-04 - val_loss: 0.0020\n",
      "Epoch 47/100\n",
      "23/23 [==============================] - 7s 303ms/step - loss: 1.9515e-04 - val_loss: 0.0033\n",
      "Epoch 48/100\n",
      "23/23 [==============================] - 7s 311ms/step - loss: 1.7772e-04 - val_loss: 0.0028\n",
      "Epoch 49/100\n",
      "23/23 [==============================] - 7s 326ms/step - loss: 1.8579e-04 - val_loss: 0.0018\n",
      "Epoch 50/100\n",
      "23/23 [==============================] - 7s 287ms/step - loss: 1.7588e-04 - val_loss: 0.0018\n",
      "Epoch 51/100\n",
      "23/23 [==============================] - 7s 323ms/step - loss: 1.7318e-04 - val_loss: 0.0027\n",
      "Epoch 52/100\n",
      "23/23 [==============================] - 9s 389ms/step - loss: 1.6861e-04 - val_loss: 0.0018\n",
      "Epoch 53/100\n",
      "23/23 [==============================] - 7s 322ms/step - loss: 1.6982e-04 - val_loss: 0.0030\n",
      "Epoch 54/100\n",
      "23/23 [==============================] - 9s 395ms/step - loss: 1.6486e-04 - val_loss: 0.0016\n",
      "Epoch 55/100\n",
      "23/23 [==============================] - 9s 372ms/step - loss: 1.6272e-04 - val_loss: 0.0025\n",
      "Epoch 56/100\n",
      "23/23 [==============================] - 7s 300ms/step - loss: 1.6472e-04 - val_loss: 9.1427e-04\n",
      "Epoch 57/100\n",
      "23/23 [==============================] - 7s 317ms/step - loss: 2.2149e-04 - val_loss: 0.0019\n",
      "Epoch 58/100\n",
      "23/23 [==============================] - 8s 340ms/step - loss: 1.5853e-04 - val_loss: 8.9109e-04\n",
      "Epoch 59/100\n",
      "23/23 [==============================] - 8s 342ms/step - loss: 1.5999e-04 - val_loss: 0.0024\n",
      "Epoch 60/100\n",
      "23/23 [==============================] - 7s 302ms/step - loss: 1.6799e-04 - val_loss: 0.0011\n",
      "Epoch 61/100\n",
      "23/23 [==============================] - 8s 332ms/step - loss: 1.6156e-04 - val_loss: 0.0018\n",
      "Epoch 62/100\n",
      "23/23 [==============================] - 8s 320ms/step - loss: 1.5526e-04 - val_loss: 0.0020\n",
      "Epoch 63/100\n",
      "23/23 [==============================] - 7s 327ms/step - loss: 1.5214e-04 - val_loss: 0.0018\n",
      "Epoch 64/100\n",
      "23/23 [==============================] - 8s 338ms/step - loss: 1.4942e-04 - val_loss: 0.0017\n",
      "Epoch 65/100\n",
      "23/23 [==============================] - 8s 358ms/step - loss: 1.5125e-04 - val_loss: 0.0020\n",
      "Epoch 66/100\n",
      "23/23 [==============================] - 7s 319ms/step - loss: 1.4710e-04 - val_loss: 0.0018\n",
      "Epoch 67/100\n",
      "23/23 [==============================] - 7s 285ms/step - loss: 1.5049e-04 - val_loss: 0.0014\n",
      "Epoch 68/100\n",
      "23/23 [==============================] - 7s 307ms/step - loss: 1.4667e-04 - val_loss: 0.0020\n",
      "Epoch 69/100\n",
      "23/23 [==============================] - 7s 314ms/step - loss: 1.6083e-04 - val_loss: 0.0020\n",
      "Epoch 70/100\n",
      "23/23 [==============================] - 7s 316ms/step - loss: 1.4539e-04 - val_loss: 0.0025\n",
      "Epoch 71/100\n",
      "23/23 [==============================] - 8s 365ms/step - loss: 1.4601e-04 - val_loss: 0.0018\n",
      "Epoch 72/100\n",
      "23/23 [==============================] - 7s 325ms/step - loss: 1.4812e-04 - val_loss: 0.0030\n",
      "Epoch 73/100\n",
      "23/23 [==============================] - 7s 303ms/step - loss: 1.5232e-04 - val_loss: 0.0034\n",
      "Epoch 74/100\n",
      "23/23 [==============================] - 7s 285ms/step - loss: 1.6530e-04 - val_loss: 0.0017\n",
      "Epoch 75/100\n",
      "23/23 [==============================] - 8s 333ms/step - loss: 1.4992e-04 - val_loss: 0.0018\n",
      "Epoch 76/100\n",
      "23/23 [==============================] - 7s 305ms/step - loss: 1.5401e-04 - val_loss: 9.3418e-04\n",
      "Epoch 77/100\n",
      "23/23 [==============================] - 7s 303ms/step - loss: 1.7394e-04 - val_loss: 0.0029\n",
      "Epoch 78/100\n"
     ]
    },
    {
     "name": "stdout",
     "output_type": "stream",
     "text": [
      "23/23 [==============================] - 7s 285ms/step - loss: 1.4997e-04 - val_loss: 0.0016\n",
      "Epoch 79/100\n",
      " 5/23 [=====>........................] - ETA: 4s - loss: 1.5316e-04"
     ]
    }
   ],
   "source": [
    "model.fit(x_train, y_train, validation_data = (x_test, y_test), epochs = 100, batch_size = 64, verbose = 1)"
   ]
  },
  {
   "cell_type": "code",
   "execution_count": null,
   "id": "a3c2aeea",
   "metadata": {},
   "outputs": [],
   "source": []
  },
  {
   "cell_type": "markdown",
   "id": "cdedbf9e",
   "metadata": {},
   "source": [
    "## Make model predictions"
   ]
  },
  {
   "cell_type": "code",
   "execution_count": 65,
   "id": "1971dc91",
   "metadata": {},
   "outputs": [],
   "source": [
    "train_predict = model.predict(x_train)\n",
    "test_predict = model.predict(x_test)"
   ]
  },
  {
   "cell_type": "code",
   "execution_count": 66,
   "id": "5d615119",
   "metadata": {},
   "outputs": [
    {
     "data": {
      "text/plain": [
       "array([[0.14084712],\n",
       "       [0.1393657 ],\n",
       "       [0.13809589],\n",
       "       ...,\n",
       "       [0.23691826],\n",
       "       [0.2372665 ],\n",
       "       [0.23767278]], dtype=float32)"
      ]
     },
     "execution_count": 66,
     "metadata": {},
     "output_type": "execute_result"
    }
   ],
   "source": [
    "train_predict"
   ]
  },
  {
   "cell_type": "markdown",
   "id": "77cf7915",
   "metadata": {},
   "source": [
    "## Evaluation of the model"
   ]
  },
  {
   "cell_type": "markdown",
   "id": "06b48413",
   "metadata": {},
   "source": [
    "#### Calculate RMSE Performance Metrics"
   ]
  },
  {
   "cell_type": "code",
   "execution_count": 67,
   "id": "bfcb5991",
   "metadata": {},
   "outputs": [
    {
     "name": "stdout",
     "output_type": "stream",
     "text": [
      "RMSE performance matrics :  132.72685444804912\n"
     ]
    }
   ],
   "source": [
    "train_predict = scaler.inverse_transform(train_predict)\n",
    "test_predict = scaler.inverse_transform(test_predict)\n",
    "\n",
    "print('RMSE performance matrics : ',math.sqrt(mean_squared_error(y_train, train_predict)) )"
   ]
  },
  {
   "cell_type": "code",
   "execution_count": 68,
   "id": "40397ae8",
   "metadata": {},
   "outputs": [
    {
     "name": "stdout",
     "output_type": "stream",
     "text": [
      "Test data RMSE :  214.9514585774243\n"
     ]
    }
   ],
   "source": [
    "print(\"Test data RMSE : \",math.sqrt(mean_squared_error(y_test , test_predict)) )"
   ]
  },
  {
   "cell_type": "code",
   "execution_count": 71,
   "id": "8be2ed81",
   "metadata": {},
   "outputs": [],
   "source": [
    "look_back = 100\n",
    "trainPredictPlot = np.empty_like(df)\n",
    "trainPredictPlot[:,:] = np.nan\n",
    "trainPredictPlot[look_back:len(train_predict) + look_back, :] = train_predict\n",
    "\n",
    "testPredictPlot = np.empty_like(df)\n",
    "testPredictPlot[:,:] = np.nan\n",
    "testPredictPlot[len(train_predict) + (look_back * 2)+1:len(df) - 1, :] = test_predict"
   ]
  },
  {
   "cell_type": "code",
   "execution_count": 73,
   "id": "715d416c",
   "metadata": {
    "scrolled": true
   },
   "outputs": [
    {
     "data": {
      "image/png": "[encoded data removed]",
      "text/plain": [
       "<Figure size 1440x360 with 1 Axes>"
      ]
     },
     "metadata": {},
     "output_type": "display_data"
    }
   ],
   "source": [
    "plt.subplots(figsize=(20,5))\n",
    "plt.plot(trainPredictPlot,color='green')\n",
    "plt.plot(testPredictPlot,color='red')\n",
    "plt.show()"
   ]
  },
  {
   "cell_type": "markdown",
   "id": "39a92a95",
   "metadata": {},
   "source": [
    "### Predictions for the next 30 days"
   ]
  },
  {
   "cell_type": "code",
   "execution_count": 74,
   "id": "96c94e64",
   "metadata": {},
   "outputs": [
    {
     "data": {
      "text/plain": [
       "(1, 100)"
      ]
     },
     "execution_count": 74,
     "metadata": {},
     "output_type": "execute_result"
    }
   ],
   "source": [
    "x_ip = test_data[409:].reshape(1, -1)\n",
    "x_ip.shape\n"
   ]
  },
  {
   "cell_type": "markdown",
   "id": "df9bdca1",
   "metadata": {},
   "source": [
    "In the above code, test_data[409:] is a slice of the test_data array that includes the previous 100 days of data. The reshape function is then used to reshape this slice into a 2-dimensional array with 1 row and an undetermined number of columns.\n",
    "\n",
    "After reshaping, you can access the shape of the x_ip array by calling x_ip.shape, which will output the tuple (1, num_columns), where num_columns is the number of columns in the reshaped array."
   ]
  },
  {
   "cell_type": "code",
   "execution_count": null,
   "id": "52f63eca",
   "metadata": {},
   "outputs": [],
   "source": []
  },
  {
   "cell_type": "code",
   "execution_count": 90,
   "id": "44e79fd7",
   "metadata": {},
   "outputs": [],
   "source": [
    "temp_ip = list(x_ip)\n",
    "temp_ip = temp_ip[0].tolist()"
   ]
  },
  {
   "cell_type": "code",
   "execution_count": 77,
   "id": "b85d9dfc",
   "metadata": {},
   "outputs": [
    {
     "name": "stdout",
     "output_type": "stream",
     "text": [
      "[0.5661276]\n",
      "101\n",
      "Day 1 input [0.84549878 0.85908354 0.824412   0.80656934 0.71107056 0.64436334\n",
      " 0.65855637 0.67802109 0.66098946 0.66058394 0.67072182 0.68896999\n",
      " 0.69383617 0.70397405 0.71492295 0.70113544 0.75385239 0.7648013\n",
      " 0.74574209 0.70721817 0.736618   0.75344688 0.7404704  0.74817518\n",
      " 0.736618   0.75385239 0.76520681 0.80312247 0.77230333 0.78487429\n",
      " 0.7404704  0.7175588  0.71695053 0.72587186 0.74493106 0.74614761\n",
      " 0.73763179 0.73641525 0.77007299 0.74371452 0.81062449 0.79622871\n",
      " 0.76520681 0.75892133 0.78994323 0.78548256 0.7676399  0.74574209\n",
      " 0.71695053 0.65064882 0.6784266  0.6431468  0.60888078 0.63990268\n",
      " 0.66058394 0.67883212 0.62773723 0.64841849 0.6593674  0.65815085\n",
      " 0.67964315 0.61394972 0.62814274 0.62469586 0.64841849 0.63321168\n",
      " 0.63077859 0.63341444 0.61597729 0.62408759 0.6283455  0.64760746\n",
      " 0.66058394 0.67234388 0.64557989 0.62206002 0.61111111 0.63219789\n",
      " 0.61942417 0.62550689 0.63219789 0.62814274 0.63706407 0.57137064\n",
      " 0.57948094 0.56731549 0.57339822 0.57339822 0.54845904 0.57725061\n",
      " 0.61658556 0.63584753 0.62793998 0.62408759 0.61820762 0.61719384\n",
      " 0.64436334 0.62226277 0.6202352  0.5661276 ]\n",
      "Day 1 output [[0.56804025]]\n",
      "\n",
      "Day 2 input [0.85908354 0.824412   0.80656934 0.71107056 0.64436334 0.65855637\n",
      " 0.67802109 0.66098946 0.66058394 0.67072182 0.68896999 0.69383617\n",
      " 0.70397405 0.71492295 0.70113544 0.75385239 0.7648013  0.74574209\n",
      " 0.70721817 0.736618   0.75344688 0.7404704  0.74817518 0.736618\n",
      " 0.75385239 0.76520681 0.80312247 0.77230333 0.78487429 0.7404704\n",
      " 0.7175588  0.71695053 0.72587186 0.74493106 0.74614761 0.73763179\n",
      " 0.73641525 0.77007299 0.74371452 0.81062449 0.79622871 0.76520681\n",
      " 0.75892133 0.78994323 0.78548256 0.7676399  0.74574209 0.71695053\n",
      " 0.65064882 0.6784266  0.6431468  0.60888078 0.63990268 0.66058394\n",
      " 0.67883212 0.62773723 0.64841849 0.6593674  0.65815085 0.67964315\n",
      " 0.61394972 0.62814274 0.62469586 0.64841849 0.63321168 0.63077859\n",
      " 0.63341444 0.61597729 0.62408759 0.6283455  0.64760746 0.66058394\n",
      " 0.67234388 0.64557989 0.62206002 0.61111111 0.63219789 0.61942417\n",
      " 0.62550689 0.63219789 0.62814274 0.63706407 0.57137064 0.57948094\n",
      " 0.56731549 0.57339822 0.57339822 0.54845904 0.57725061 0.61658556\n",
      " 0.63584753 0.62793998 0.62408759 0.61820762 0.61719384 0.64436334\n",
      " 0.62226277 0.6202352  0.5661276  0.56804025]\n",
      "Day 2 output [[0.5685009]]\n",
      "\n",
      "Day 3 input [0.824412   0.80656934 0.71107056 0.64436334 0.65855637 0.67802109\n",
      " 0.66098946 0.66058394 0.67072182 0.68896999 0.69383617 0.70397405\n",
      " 0.71492295 0.70113544 0.75385239 0.7648013  0.74574209 0.70721817\n",
      " 0.736618   0.75344688 0.7404704  0.74817518 0.736618   0.75385239\n",
      " 0.76520681 0.80312247 0.77230333 0.78487429 0.7404704  0.7175588\n",
      " 0.71695053 0.72587186 0.74493106 0.74614761 0.73763179 0.73641525\n",
      " 0.77007299 0.74371452 0.81062449 0.79622871 0.76520681 0.75892133\n",
      " 0.78994323 0.78548256 0.7676399  0.74574209 0.71695053 0.65064882\n",
      " 0.6784266  0.6431468  0.60888078 0.63990268 0.66058394 0.67883212\n",
      " 0.62773723 0.64841849 0.6593674  0.65815085 0.67964315 0.61394972\n",
      " 0.62814274 0.62469586 0.64841849 0.63321168 0.63077859 0.63341444\n",
      " 0.61597729 0.62408759 0.6283455  0.64760746 0.66058394 0.67234388\n",
      " 0.64557989 0.62206002 0.61111111 0.63219789 0.61942417 0.62550689\n",
      " 0.63219789 0.62814274 0.63706407 0.57137064 0.57948094 0.56731549\n",
      " 0.57339822 0.57339822 0.54845904 0.57725061 0.61658556 0.63584753\n",
      " 0.62793998 0.62408759 0.61820762 0.61719384 0.64436334 0.62226277\n",
      " 0.6202352  0.5661276  0.56804025 0.56850088]\n",
      "Day 3 output [[0.56756365]]\n",
      "\n",
      "Day 4 input [0.80656934 0.71107056 0.64436334 0.65855637 0.67802109 0.66098946\n",
      " 0.66058394 0.67072182 0.68896999 0.69383617 0.70397405 0.71492295\n",
      " 0.70113544 0.75385239 0.7648013  0.74574209 0.70721817 0.736618\n",
      " 0.75344688 0.7404704  0.74817518 0.736618   0.75385239 0.76520681\n",
      " 0.80312247 0.77230333 0.78487429 0.7404704  0.7175588  0.71695053\n",
      " 0.72587186 0.74493106 0.74614761 0.73763179 0.73641525 0.77007299\n",
      " 0.74371452 0.81062449 0.79622871 0.76520681 0.75892133 0.78994323\n",
      " 0.78548256 0.7676399  0.74574209 0.71695053 0.65064882 0.6784266\n",
      " 0.6431468  0.60888078 0.63990268 0.66058394 0.67883212 0.62773723\n",
      " 0.64841849 0.6593674  0.65815085 0.67964315 0.61394972 0.62814274\n",
      " 0.62469586 0.64841849 0.63321168 0.63077859 0.63341444 0.61597729\n",
      " 0.62408759 0.6283455  0.64760746 0.66058394 0.67234388 0.64557989\n",
      " 0.62206002 0.61111111 0.63219789 0.61942417 0.62550689 0.63219789\n",
      " 0.62814274 0.63706407 0.57137064 0.57948094 0.56731549 0.57339822\n",
      " 0.57339822 0.54845904 0.57725061 0.61658556 0.63584753 0.62793998\n",
      " 0.62408759 0.61820762 0.61719384 0.64436334 0.62226277 0.6202352\n",
      " 0.5661276  0.56804025 0.56850088 0.56756365]\n",
      "Day 4 output [[0.5654547]]\n",
      "\n",
      "Day 5 input [0.71107056 0.64436334 0.65855637 0.67802109 0.66098946 0.66058394\n",
      " 0.67072182 0.68896999 0.69383617 0.70397405 0.71492295 0.70113544\n",
      " 0.75385239 0.7648013  0.74574209 0.70721817 0.736618   0.75344688\n",
      " 0.7404704  0.74817518 0.736618   0.75385239 0.76520681 0.80312247\n",
      " 0.77230333 0.78487429 0.7404704  0.7175588  0.71695053 0.72587186\n",
      " 0.74493106 0.74614761 0.73763179 0.73641525 0.77007299 0.74371452\n",
      " 0.81062449 0.79622871 0.76520681 0.75892133 0.78994323 0.78548256\n",
      " 0.7676399  0.74574209 0.71695053 0.65064882 0.6784266  0.6431468\n",
      " 0.60888078 0.63990268 0.66058394 0.67883212 0.62773723 0.64841849\n",
      " 0.6593674  0.65815085 0.67964315 0.61394972 0.62814274 0.62469586\n",
      " 0.64841849 0.63321168 0.63077859 0.63341444 0.61597729 0.62408759\n",
      " 0.6283455  0.64760746 0.66058394 0.67234388 0.64557989 0.62206002\n",
      " 0.61111111 0.63219789 0.61942417 0.62550689 0.63219789 0.62814274\n",
      " 0.63706407 0.57137064 0.57948094 0.56731549 0.57339822 0.57339822\n",
      " 0.54845904 0.57725061 0.61658556 0.63584753 0.62793998 0.62408759\n",
      " 0.61820762 0.61719384 0.64436334 0.62226277 0.6202352  0.5661276\n",
      " 0.56804025 0.56850088 0.56756365 0.56545472]\n",
      "Day 5 output [[0.56245476]]\n",
      "\n",
      "Day 6 input [0.64436334 0.65855637 0.67802109 0.66098946 0.66058394 0.67072182\n",
      " 0.68896999 0.69383617 0.70397405 0.71492295 0.70113544 0.75385239\n",
      " 0.7648013  0.74574209 0.70721817 0.736618   0.75344688 0.7404704\n",
      " 0.74817518 0.736618   0.75385239 0.76520681 0.80312247 0.77230333\n",
      " 0.78487429 0.7404704  0.7175588  0.71695053 0.72587186 0.74493106\n",
      " 0.74614761 0.73763179 0.73641525 0.77007299 0.74371452 0.81062449\n",
      " 0.79622871 0.76520681 0.75892133 0.78994323 0.78548256 0.7676399\n",
      " 0.74574209 0.71695053 0.65064882 0.6784266  0.6431468  0.60888078\n",
      " 0.63990268 0.66058394 0.67883212 0.62773723 0.64841849 0.6593674\n",
      " 0.65815085 0.67964315 0.61394972 0.62814274 0.62469586 0.64841849\n",
      " 0.63321168 0.63077859 0.63341444 0.61597729 0.62408759 0.6283455\n",
      " 0.64760746 0.66058394 0.67234388 0.64557989 0.62206002 0.61111111\n",
      " 0.63219789 0.61942417 0.62550689 0.63219789 0.62814274 0.63706407\n",
      " 0.57137064 0.57948094 0.56731549 0.57339822 0.57339822 0.54845904\n",
      " 0.57725061 0.61658556 0.63584753 0.62793998 0.62408759 0.61820762\n",
      " 0.61719384 0.64436334 0.62226277 0.6202352  0.5661276  0.56804025\n",
      " 0.56850088 0.56756365 0.56545472 0.56245476]\n",
      "Day 6 output [[0.5588322]]\n",
      "\n",
      "Day 7 input [0.65855637 0.67802109 0.66098946 0.66058394 0.67072182 0.68896999\n",
      " 0.69383617 0.70397405 0.71492295 0.70113544 0.75385239 0.7648013\n",
      " 0.74574209 0.70721817 0.736618   0.75344688 0.7404704  0.74817518\n",
      " 0.736618   0.75385239 0.76520681 0.80312247 0.77230333 0.78487429\n",
      " 0.7404704  0.7175588  0.71695053 0.72587186 0.74493106 0.74614761\n",
      " 0.73763179 0.73641525 0.77007299 0.74371452 0.81062449 0.79622871\n",
      " 0.76520681 0.75892133 0.78994323 0.78548256 0.7676399  0.74574209\n",
      " 0.71695053 0.65064882 0.6784266  0.6431468  0.60888078 0.63990268\n",
      " 0.66058394 0.67883212 0.62773723 0.64841849 0.6593674  0.65815085\n",
      " 0.67964315 0.61394972 0.62814274 0.62469586 0.64841849 0.63321168\n",
      " 0.63077859 0.63341444 0.61597729 0.62408759 0.6283455  0.64760746\n",
      " 0.66058394 0.67234388 0.64557989 0.62206002 0.61111111 0.63219789\n",
      " 0.61942417 0.62550689 0.63219789 0.62814274 0.63706407 0.57137064\n",
      " 0.57948094 0.56731549 0.57339822 0.57339822 0.54845904 0.57725061\n",
      " 0.61658556 0.63584753 0.62793998 0.62408759 0.61820762 0.61719384\n",
      " 0.64436334 0.62226277 0.6202352  0.5661276  0.56804025 0.56850088\n",
      " 0.56756365 0.56545472 0.56245476 0.55883223]\n",
      "Day 7 output [[0.5548123]]\n",
      "\n",
      "Day 8 input [0.67802109 0.66098946 0.66058394 0.67072182 0.68896999 0.69383617\n",
      " 0.70397405 0.71492295 0.70113544 0.75385239 0.7648013  0.74574209\n",
      " 0.70721817 0.736618   0.75344688 0.7404704  0.74817518 0.736618\n",
      " 0.75385239 0.76520681 0.80312247 0.77230333 0.78487429 0.7404704\n",
      " 0.7175588  0.71695053 0.72587186 0.74493106 0.74614761 0.73763179\n",
      " 0.73641525 0.77007299 0.74371452 0.81062449 0.79622871 0.76520681\n",
      " 0.75892133 0.78994323 0.78548256 0.7676399  0.74574209 0.71695053\n",
      " 0.65064882 0.6784266  0.6431468  0.60888078 0.63990268 0.66058394\n",
      " 0.67883212 0.62773723 0.64841849 0.6593674  0.65815085 0.67964315\n",
      " 0.61394972 0.62814274 0.62469586 0.64841849 0.63321168 0.63077859\n",
      " 0.63341444 0.61597729 0.62408759 0.6283455  0.64760746 0.66058394\n",
      " 0.67234388 0.64557989 0.62206002 0.61111111 0.63219789 0.61942417\n",
      " 0.62550689 0.63219789 0.62814274 0.63706407 0.57137064 0.57948094\n",
      " 0.56731549 0.57339822 0.57339822 0.54845904 0.57725061 0.61658556\n",
      " 0.63584753 0.62793998 0.62408759 0.61820762 0.61719384 0.64436334\n",
      " 0.62226277 0.6202352  0.5661276  0.56804025 0.56850088 0.56756365\n",
      " 0.56545472 0.56245476 0.55883223 0.55481231]\n",
      "Day 8 output [[0.5505688]]\n",
      "\n",
      "Day 9 input [0.66098946 0.66058394 0.67072182 0.68896999 0.69383617 0.70397405\n",
      " 0.71492295 0.70113544 0.75385239 0.7648013  0.74574209 0.70721817\n",
      " 0.736618   0.75344688 0.7404704  0.74817518 0.736618   0.75385239\n",
      " 0.76520681 0.80312247 0.77230333 0.78487429 0.7404704  0.7175588\n",
      " 0.71695053 0.72587186 0.74493106 0.74614761 0.73763179 0.73641525\n",
      " 0.77007299 0.74371452 0.81062449 0.79622871 0.76520681 0.75892133\n",
      " 0.78994323 0.78548256 0.7676399  0.74574209 0.71695053 0.65064882\n",
      " 0.6784266  0.6431468  0.60888078 0.63990268 0.66058394 0.67883212\n",
      " 0.62773723 0.64841849 0.6593674  0.65815085 0.67964315 0.61394972\n",
      " 0.62814274 0.62469586 0.64841849 0.63321168 0.63077859 0.63341444\n",
      " 0.61597729 0.62408759 0.6283455  0.64760746 0.66058394 0.67234388\n",
      " 0.64557989 0.62206002 0.61111111 0.63219789 0.61942417 0.62550689\n",
      " 0.63219789 0.62814274 0.63706407 0.57137064 0.57948094 0.56731549\n",
      " 0.57339822 0.57339822 0.54845904 0.57725061 0.61658556 0.63584753\n",
      " 0.62793998 0.62408759 0.61820762 0.61719384 0.64436334 0.62226277\n",
      " 0.6202352  0.5661276  0.56804025 0.56850088 0.56756365 0.56545472\n",
      " 0.56245476 0.55883223 0.55481231 0.55056882]\n"
     ]
    },
    {
     "name": "stdout",
     "output_type": "stream",
     "text": [
      "Day 9 output [[0.5462259]]\n",
      "\n",
      "Day 10 input [0.66058394 0.67072182 0.68896999 0.69383617 0.70397405 0.71492295\n",
      " 0.70113544 0.75385239 0.7648013  0.74574209 0.70721817 0.736618\n",
      " 0.75344688 0.7404704  0.74817518 0.736618   0.75385239 0.76520681\n",
      " 0.80312247 0.77230333 0.78487429 0.7404704  0.7175588  0.71695053\n",
      " 0.72587186 0.74493106 0.74614761 0.73763179 0.73641525 0.77007299\n",
      " 0.74371452 0.81062449 0.79622871 0.76520681 0.75892133 0.78994323\n",
      " 0.78548256 0.7676399  0.74574209 0.71695053 0.65064882 0.6784266\n",
      " 0.6431468  0.60888078 0.63990268 0.66058394 0.67883212 0.62773723\n",
      " 0.64841849 0.6593674  0.65815085 0.67964315 0.61394972 0.62814274\n",
      " 0.62469586 0.64841849 0.63321168 0.63077859 0.63341444 0.61597729\n",
      " 0.62408759 0.6283455  0.64760746 0.66058394 0.67234388 0.64557989\n",
      " 0.62206002 0.61111111 0.63219789 0.61942417 0.62550689 0.63219789\n",
      " 0.62814274 0.63706407 0.57137064 0.57948094 0.56731549 0.57339822\n",
      " 0.57339822 0.54845904 0.57725061 0.61658556 0.63584753 0.62793998\n",
      " 0.62408759 0.61820762 0.61719384 0.64436334 0.62226277 0.6202352\n",
      " 0.5661276  0.56804025 0.56850088 0.56756365 0.56545472 0.56245476\n",
      " 0.55883223 0.55481231 0.55056882 0.54622591]\n",
      "Day 10 output [[0.5418671]]\n",
      "\n",
      "Day 11 input [0.67072182 0.68896999 0.69383617 0.70397405 0.71492295 0.70113544\n",
      " 0.75385239 0.7648013  0.74574209 0.70721817 0.736618   0.75344688\n",
      " 0.7404704  0.74817518 0.736618   0.75385239 0.76520681 0.80312247\n",
      " 0.77230333 0.78487429 0.7404704  0.7175588  0.71695053 0.72587186\n",
      " 0.74493106 0.74614761 0.73763179 0.73641525 0.77007299 0.74371452\n",
      " 0.81062449 0.79622871 0.76520681 0.75892133 0.78994323 0.78548256\n",
      " 0.7676399  0.74574209 0.71695053 0.65064882 0.6784266  0.6431468\n",
      " 0.60888078 0.63990268 0.66058394 0.67883212 0.62773723 0.64841849\n",
      " 0.6593674  0.65815085 0.67964315 0.61394972 0.62814274 0.62469586\n",
      " 0.64841849 0.63321168 0.63077859 0.63341444 0.61597729 0.62408759\n",
      " 0.6283455  0.64760746 0.66058394 0.67234388 0.64557989 0.62206002\n",
      " 0.61111111 0.63219789 0.61942417 0.62550689 0.63219789 0.62814274\n",
      " 0.63706407 0.57137064 0.57948094 0.56731549 0.57339822 0.57339822\n",
      " 0.54845904 0.57725061 0.61658556 0.63584753 0.62793998 0.62408759\n",
      " 0.61820762 0.61719384 0.64436334 0.62226277 0.6202352  0.5661276\n",
      " 0.56804025 0.56850088 0.56756365 0.56545472 0.56245476 0.55883223\n",
      " 0.55481231 0.55056882 0.54622591 0.54186708]\n",
      "Day 11 output [[0.5375439]]\n",
      "\n",
      "Day 12 input [0.68896999 0.69383617 0.70397405 0.71492295 0.70113544 0.75385239\n",
      " 0.7648013  0.74574209 0.70721817 0.736618   0.75344688 0.7404704\n",
      " 0.74817518 0.736618   0.75385239 0.76520681 0.80312247 0.77230333\n",
      " 0.78487429 0.7404704  0.7175588  0.71695053 0.72587186 0.74493106\n",
      " 0.74614761 0.73763179 0.73641525 0.77007299 0.74371452 0.81062449\n",
      " 0.79622871 0.76520681 0.75892133 0.78994323 0.78548256 0.7676399\n",
      " 0.74574209 0.71695053 0.65064882 0.6784266  0.6431468  0.60888078\n",
      " 0.63990268 0.66058394 0.67883212 0.62773723 0.64841849 0.6593674\n",
      " 0.65815085 0.67964315 0.61394972 0.62814274 0.62469586 0.64841849\n",
      " 0.63321168 0.63077859 0.63341444 0.61597729 0.62408759 0.6283455\n",
      " 0.64760746 0.66058394 0.67234388 0.64557989 0.62206002 0.61111111\n",
      " 0.63219789 0.61942417 0.62550689 0.63219789 0.62814274 0.63706407\n",
      " 0.57137064 0.57948094 0.56731549 0.57339822 0.57339822 0.54845904\n",
      " 0.57725061 0.61658556 0.63584753 0.62793998 0.62408759 0.61820762\n",
      " 0.61719384 0.64436334 0.62226277 0.6202352  0.5661276  0.56804025\n",
      " 0.56850088 0.56756365 0.56545472 0.56245476 0.55883223 0.55481231\n",
      " 0.55056882 0.54622591 0.54186708 0.53754389]\n",
      "Day 12 output [[0.53328574]]\n",
      "\n",
      "Day 13 input [0.69383617 0.70397405 0.71492295 0.70113544 0.75385239 0.7648013\n",
      " 0.74574209 0.70721817 0.736618   0.75344688 0.7404704  0.74817518\n",
      " 0.736618   0.75385239 0.76520681 0.80312247 0.77230333 0.78487429\n",
      " 0.7404704  0.7175588  0.71695053 0.72587186 0.74493106 0.74614761\n",
      " 0.73763179 0.73641525 0.77007299 0.74371452 0.81062449 0.79622871\n",
      " 0.76520681 0.75892133 0.78994323 0.78548256 0.7676399  0.74574209\n",
      " 0.71695053 0.65064882 0.6784266  0.6431468  0.60888078 0.63990268\n",
      " 0.66058394 0.67883212 0.62773723 0.64841849 0.6593674  0.65815085\n",
      " 0.67964315 0.61394972 0.62814274 0.62469586 0.64841849 0.63321168\n",
      " 0.63077859 0.63341444 0.61597729 0.62408759 0.6283455  0.64760746\n",
      " 0.66058394 0.67234388 0.64557989 0.62206002 0.61111111 0.63219789\n",
      " 0.61942417 0.62550689 0.63219789 0.62814274 0.63706407 0.57137064\n",
      " 0.57948094 0.56731549 0.57339822 0.57339822 0.54845904 0.57725061\n",
      " 0.61658556 0.63584753 0.62793998 0.62408759 0.61820762 0.61719384\n",
      " 0.64436334 0.62226277 0.6202352  0.5661276  0.56804025 0.56850088\n",
      " 0.56756365 0.56545472 0.56245476 0.55883223 0.55481231 0.55056882\n",
      " 0.54622591 0.54186708 0.53754389 0.53328574]\n",
      "Day 13 output [[0.52910703]]\n",
      "\n",
      "Day 14 input [0.70397405 0.71492295 0.70113544 0.75385239 0.7648013  0.74574209\n",
      " 0.70721817 0.736618   0.75344688 0.7404704  0.74817518 0.736618\n",
      " 0.75385239 0.76520681 0.80312247 0.77230333 0.78487429 0.7404704\n",
      " 0.7175588  0.71695053 0.72587186 0.74493106 0.74614761 0.73763179\n",
      " 0.73641525 0.77007299 0.74371452 0.81062449 0.79622871 0.76520681\n",
      " 0.75892133 0.78994323 0.78548256 0.7676399  0.74574209 0.71695053\n",
      " 0.65064882 0.6784266  0.6431468  0.60888078 0.63990268 0.66058394\n",
      " 0.67883212 0.62773723 0.64841849 0.6593674  0.65815085 0.67964315\n",
      " 0.61394972 0.62814274 0.62469586 0.64841849 0.63321168 0.63077859\n",
      " 0.63341444 0.61597729 0.62408759 0.6283455  0.64760746 0.66058394\n",
      " 0.67234388 0.64557989 0.62206002 0.61111111 0.63219789 0.61942417\n",
      " 0.62550689 0.63219789 0.62814274 0.63706407 0.57137064 0.57948094\n",
      " 0.56731549 0.57339822 0.57339822 0.54845904 0.57725061 0.61658556\n",
      " 0.63584753 0.62793998 0.62408759 0.61820762 0.61719384 0.64436334\n",
      " 0.62226277 0.6202352  0.5661276  0.56804025 0.56850088 0.56756365\n",
      " 0.56545472 0.56245476 0.55883223 0.55481231 0.55056882 0.54622591\n",
      " 0.54186708 0.53754389 0.53328574 0.52910703]\n",
      "Day 14 output [[0.5250125]]\n",
      "\n"
     ]
    }
   ],
   "source": [
    "lst_output=[]\n",
    "n_steps=100\n",
    "\n",
    "future_Days= 15\n",
    "\n",
    "i=0\n",
    "\n",
    "while(i<future_Days):\n",
    "    \n",
    "    if(len(temp_ip)>100):\n",
    "        x_ip = np.array(temp_ip[1:])\n",
    "        print(\"Day {} input {}\".format(i,x_ip))\n",
    "        \n",
    "        x_ip = x_ip.reshape(1,-1)\n",
    "        x_ip = x_ip.reshape((1, n_steps, 1))\n",
    "        yhat = model.predict(x_ip, verbose=0)\n",
    "        print(\"Day {} output {}\\n\".format(i,yhat))\n",
    "        \n",
    "        temp_ip.extend(yhat[0].tolist())\n",
    "        temp_ip = temp_ip[1:]\n",
    "        lst_output.extend(yhat.tolist())\n",
    "        i=i+1\n",
    "    else:\n",
    "        x_ip = x_ip.reshape((1, n_steps,1))\n",
    "        yhat = model.predict(x_ip, verbose=0)\n",
    "        print(yhat[0])\n",
    "        temp_ip.extend(yhat[0].tolist())\n",
    "        print(len(temp_ip))\n",
    "        lst_output.extend(yhat.tolist())\n",
    "        i=i+1"
   ]
  },
  {
   "cell_type": "code",
   "execution_count": 83,
   "id": "bfc3045c",
   "metadata": {},
   "outputs": [],
   "source": [
    "day_new = np.arange(1,101)\n",
    "day_pred = np.arange(101,116)"
   ]
  },
  {
   "cell_type": "code",
   "execution_count": 84,
   "id": "40c1add1",
   "metadata": {},
   "outputs": [],
   "source": [
    "fd = df_open.tolist()\n",
    "fd.extend(lst_output)"
   ]
  },
  {
   "cell_type": "code",
   "execution_count": 85,
   "id": "e4078944",
   "metadata": {},
   "outputs": [
    {
     "data": {
      "image/png": "[encoded data removed]",
      "text/plain": [
       "<Figure size 720x720 with 1 Axes>"
      ]
     },
     "metadata": {},
     "output_type": "display_data"
    }
   ],
   "source": [
    "import matplotlib.pyplot as plt\n",
    "\n",
    "# Set the figure size\n",
    "fig, ax = plt.subplots(figsize=(10, 10))\n",
    "\n",
    "# Plot the actual data in blue\n",
    "ax.plot(day_new, scaler.inverse_transform(df_open[1935:]), color='blue', label='Actual Data')\n",
    "\n",
    "# Plot the predicted data in green\n",
    "ax.plot(day_pred, scaler.inverse_transform(lst_output), color='green', label='Predicted Data')\n",
    "\n",
    "# Add labels and legend\n",
    "ax.set_xlabel('Day')\n",
    "ax.set_ylabel('Opening Price')\n",
    "ax.legend()\n",
    "\n",
    "# Display the plot\n",
    "plt.show()"
   ]
  },
  {
   "cell_type": "code",
   "execution_count": null,
   "id": "a56454bb",
   "metadata": {},
   "outputs": [],
   "source": []
  },
  {
   "cell_type": "markdown",
   "id": "c9c605db",
   "metadata": {},
   "source": [
    "## Result Plotting"
   ]
  },
  {
   "cell_type": "code",
   "execution_count": 114,
   "id": "97d8c4eb",
   "metadata": {},
   "outputs": [],
   "source": [
    "trainPredictPlot = np.empty_like(ds_high)\n",
    "trainPredictPlot[:] = np.nan\n",
    "trainPredictPlot[look_back:len(train_predict) + look_back] = train_predict.reshape(-1)\n",
    "\n",
    "testPredictPlot = np.empty_like(ds_high)\n",
    "testPredictPlot[:] = np.nan\n",
    "testPredictPlot[len(train_predict) + (look_back * 2) + 1:len(ds_high) - 1] = test_predict.reshape(-1)\n"
   ]
  },
  {
   "cell_type": "code",
   "execution_count": 135,
   "id": "9cd28506",
   "metadata": {},
   "outputs": [],
   "source": [
    "temp_input = list(X_input)\n",
    "temp_input = temp_input[0].tolist()"
   ]
  },
  {
   "cell_type": "code",
   "execution_count": 136,
   "id": "d9c8fb69",
   "metadata": {},
   "outputs": [],
   "source": [
    "day_new = np.arange(1,101)\n",
    "day_pred = np.arange(101,131)"
   ]
  },
  {
   "cell_type": "code",
   "execution_count": 137,
   "id": "45fce928",
   "metadata": {},
   "outputs": [
    {
     "data": {
      "text/plain": [
       "(100,)"
      ]
     },
     "execution_count": 137,
     "metadata": {},
     "output_type": "execute_result"
    }
   ],
   "source": [
    "day_new.shape"
   ]
  },
  {
   "cell_type": "code",
   "execution_count": 138,
   "id": "5f146988",
   "metadata": {},
   "outputs": [
    {
     "data": {
      "text/plain": [
       "(30,)"
      ]
     },
     "execution_count": 138,
     "metadata": {},
     "output_type": "execute_result"
    }
   ],
   "source": [
    "day_pred.shape"
   ]
  },
  {
   "cell_type": "code",
   "execution_count": 139,
   "id": "bc17c7c8",
   "metadata": {},
   "outputs": [],
   "source": [
    "data_new = ds_high.tolist()\n",
    "data_new.extend(lst_output)"
   ]
  },
  {
   "cell_type": "code",
   "execution_count": 140,
   "id": "e4c8b1b3",
   "metadata": {},
   "outputs": [
    {
     "data": {
      "text/plain": [
       "2035"
      ]
     },
     "execution_count": 140,
     "metadata": {},
     "output_type": "execute_result"
    }
   ],
   "source": [
    "len(ds_high)"
   ]
  },
  {
   "cell_type": "code",
   "execution_count": 141,
   "id": "578c67af",
   "metadata": {},
   "outputs": [
    {
     "data": {
      "text/plain": [
       "[<matplotlib.lines.Line2D at 0x132e11f6400>]"
      ]
     },
     "execution_count": 141,
     "metadata": {},
     "output_type": "execute_result"
    },
    {
     "data": {
      "image/png": "[encoded data removed]",
      "text/plain": [
       "<Figure size 432x288 with 1 Axes>"
      ]
     },
     "metadata": {},
     "output_type": "display_data"
    }
   ],
   "source": [
    "\n",
    "data_new = ds_high.tolist()\n",
    "data_new.extend(lst_output)\n",
    "plt.plot(data_new[2000:])"
   ]
  },
  {
   "cell_type": "code",
   "execution_count": null,
   "id": "bfdc2fec",
   "metadata": {},
   "outputs": [],
   "source": []
  },
  {
   "cell_type": "code",
   "execution_count": 142,
   "id": "bf4ba6ff",
   "metadata": {},
   "outputs": [],
   "source": [
    "data_new = scaler.inverse_transform(df).tolist()"
   ]
  },
  {
   "cell_type": "code",
   "execution_count": 143,
   "id": "7bdefb3b",
   "metadata": {},
   "outputs": [
    {
     "data": {
      "text/plain": [
       "[<matplotlib.lines.Line2D at 0x132e1364b80>,\n",
       " <matplotlib.lines.Line2D at 0x132e1364be0>,\n",
       " <matplotlib.lines.Line2D at 0x132e1364d00>,\n",
       " <matplotlib.lines.Line2D at 0x132e1364e20>,\n",
       " <matplotlib.lines.Line2D at 0x132e1364f40>,\n",
       " <matplotlib.lines.Line2D at 0x132e137e0a0>,\n",
       " <matplotlib.lines.Line2D at 0x132e137e1c0>,\n",
       " <matplotlib.lines.Line2D at 0x132e13579d0>]"
      ]
     },
     "execution_count": 143,
     "metadata": {},
     "output_type": "execute_result"
    },
    {
     "data": {
      "image/png": "[encoded data removed]",
      "text/plain": [
       "<Figure size 432x288 with 1 Axes>"
      ]
     },
     "metadata": {},
     "output_type": "display_data"
    }
   ],
   "source": [
    "plt.plot(data_new)"
   ]
  },
  {
   "cell_type": "code",
   "execution_count": null,
   "id": "74e3cf42",
   "metadata": {},
   "outputs": [],
   "source": []
  },
  {
   "cell_type": "code",
   "execution_count": null,
   "id": "74331344",
   "metadata": {},
   "outputs": [],
   "source": []
  },
  {
   "cell_type": "code",
   "execution_count": null,
   "id": "2582a793",
   "metadata": {},
   "outputs": [],
   "source": []
  },
  {
   "cell_type": "code",
   "execution_count": null,
   "id": "818b7d9a",
   "metadata": {},
   "outputs": [],
   "source": []
  },
  {
   "cell_type": "code",
   "execution_count": null,
   "id": "fc946f85",
   "metadata": {},
   "outputs": [],
   "source": []
  },
  {
   "cell_type": "code",
   "execution_count": null,
   "id": "43570a7a",
   "metadata": {},
   "outputs": [],
   "source": []
  },
  {
   "cell_type": "code",
   "execution_count": null,
   "id": "689c3049",
   "metadata": {},
   "outputs": [],
   "source": []
  },
  {
   "cell_type": "code",
   "execution_count": null,
   "id": "abc693fe",
   "metadata": {},
   "outputs": [],
   "source": []
  }
 ],
 "metadata": {
  "kernelspec": {
   "display_name": "Python 3 (ipykernel)",
   "language": "python",
   "name": "python3"
  },
  "language_info": {
   "codemirror_mode": {
    "name": "ipython",
    "version": 3
   },
   "file_extension": ".py",
   "mimetype": "text/x-python",
   "name": "python",
   "nbconvert_exporter": "python",
   "pygments_lexer": "ipython3",
   "version": "3.9.12"
  }
 },
 "nbformat": 4,
 "nbformat_minor": 5
}
